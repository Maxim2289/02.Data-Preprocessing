{
 "cells": [
  {
   "cell_type": "markdown",
   "id": "0627a4c3",
   "metadata": {
    "deletable": false,
    "editable": false,
    "id": "c81daeeb"
   },
   "source": [
    "# Исследование надежности заемщиков\n"
   ]
  },
  {
   "cell_type": "markdown",
   "id": "66d29df5",
   "metadata": {
    "deletable": false,
    "editable": false,
    "id": "827c20bf"
   },
   "source": [
    "Во второй части проекта вы выполните шаги 3 и 4. Их вручную проверит ревьюер.\n",
    "Чтобы вам не пришлось писать код заново для шагов 1 и 2, мы добавили авторские решения в ячейки с кодом. \n",
    "\n"
   ]
  },
  {
   "cell_type": "markdown",
   "id": "836e9d8a",
   "metadata": {
    "deletable": false,
    "editable": false,
    "id": "744d7639"
   },
   "source": [
    "## Откройте таблицу и изучите общую информацию о данных"
   ]
  },
  {
   "cell_type": "markdown",
   "id": "011d25f3",
   "metadata": {
    "deletable": false,
    "editable": false,
    "id": "e7a14c31"
   },
   "source": [
    "**Задание 1. Импортируйте библиотеку pandas. Считайте данные из csv-файла в датафрейм и сохраните в переменную `data`. Путь к файлу:**\n",
    "\n",
    "`/datasets/data.csv`"
   ]
  },
  {
   "cell_type": "code",
   "execution_count": 2,
   "id": "a8e2d1b4",
   "metadata": {
    "deletable": false,
    "id": "7bcf75c9"
   },
   "outputs": [],
   "source": [
    "import pandas as pd\n",
    "\n",
    "try:\n",
    "    data = pd.read_csv('/datasets/data.csv')\n",
    "except:\n",
    "    data = pd.read_csv('https://code.s3.yandex.net/datasets/data.csv')"
   ]
  },
  {
   "cell_type": "markdown",
   "id": "1fbe21ef",
   "metadata": {
    "deletable": false,
    "editable": false,
    "id": "b8038fe3"
   },
   "source": [
    "**Задание 2. Выведите первые 20 строчек датафрейма `data` на экран.**"
   ]
  },
  {
   "cell_type": "code",
   "execution_count": 6,
   "id": "4e9213a6",
   "metadata": {
    "deletable": false,
    "id": "2a7cab99",
    "outputId": "1a8f3ef2-d323-4ec2-ddf7-89670b5944c4"
   },
   "outputs": [
    {
     "data": {
      "text/html": [
       "<div>\n",
       "<style scoped>\n",
       "    .dataframe tbody tr th:only-of-type {\n",
       "        vertical-align: middle;\n",
       "    }\n",
       "\n",
       "    .dataframe tbody tr th {\n",
       "        vertical-align: top;\n",
       "    }\n",
       "\n",
       "    .dataframe thead th {\n",
       "        text-align: right;\n",
       "    }\n",
       "</style>\n",
       "<table border=\"1\" class=\"dataframe\">\n",
       "  <thead>\n",
       "    <tr style=\"text-align: right;\">\n",
       "      <th></th>\n",
       "      <th>children</th>\n",
       "      <th>days_employed</th>\n",
       "      <th>dob_years</th>\n",
       "      <th>education</th>\n",
       "      <th>education_id</th>\n",
       "      <th>family_status</th>\n",
       "      <th>family_status_id</th>\n",
       "      <th>gender</th>\n",
       "      <th>income_type</th>\n",
       "      <th>debt</th>\n",
       "      <th>total_income</th>\n",
       "      <th>purpose</th>\n",
       "    </tr>\n",
       "  </thead>\n",
       "  <tbody>\n",
       "    <tr>\n",
       "      <th>0</th>\n",
       "      <td>1</td>\n",
       "      <td>-8437.673028</td>\n",
       "      <td>42</td>\n",
       "      <td>высшее</td>\n",
       "      <td>0</td>\n",
       "      <td>женат / замужем</td>\n",
       "      <td>0</td>\n",
       "      <td>F</td>\n",
       "      <td>сотрудник</td>\n",
       "      <td>0</td>\n",
       "      <td>253875.639453</td>\n",
       "      <td>покупка жилья</td>\n",
       "    </tr>\n",
       "    <tr>\n",
       "      <th>1</th>\n",
       "      <td>1</td>\n",
       "      <td>-4024.803754</td>\n",
       "      <td>36</td>\n",
       "      <td>среднее</td>\n",
       "      <td>1</td>\n",
       "      <td>женат / замужем</td>\n",
       "      <td>0</td>\n",
       "      <td>F</td>\n",
       "      <td>сотрудник</td>\n",
       "      <td>0</td>\n",
       "      <td>112080.014102</td>\n",
       "      <td>приобретение автомобиля</td>\n",
       "    </tr>\n",
       "    <tr>\n",
       "      <th>2</th>\n",
       "      <td>0</td>\n",
       "      <td>-5623.422610</td>\n",
       "      <td>33</td>\n",
       "      <td>Среднее</td>\n",
       "      <td>1</td>\n",
       "      <td>женат / замужем</td>\n",
       "      <td>0</td>\n",
       "      <td>M</td>\n",
       "      <td>сотрудник</td>\n",
       "      <td>0</td>\n",
       "      <td>145885.952297</td>\n",
       "      <td>покупка жилья</td>\n",
       "    </tr>\n",
       "    <tr>\n",
       "      <th>3</th>\n",
       "      <td>3</td>\n",
       "      <td>-4124.747207</td>\n",
       "      <td>32</td>\n",
       "      <td>среднее</td>\n",
       "      <td>1</td>\n",
       "      <td>женат / замужем</td>\n",
       "      <td>0</td>\n",
       "      <td>M</td>\n",
       "      <td>сотрудник</td>\n",
       "      <td>0</td>\n",
       "      <td>267628.550329</td>\n",
       "      <td>дополнительное образование</td>\n",
       "    </tr>\n",
       "    <tr>\n",
       "      <th>4</th>\n",
       "      <td>0</td>\n",
       "      <td>340266.072047</td>\n",
       "      <td>53</td>\n",
       "      <td>среднее</td>\n",
       "      <td>1</td>\n",
       "      <td>гражданский брак</td>\n",
       "      <td>1</td>\n",
       "      <td>F</td>\n",
       "      <td>пенсионер</td>\n",
       "      <td>0</td>\n",
       "      <td>158616.077870</td>\n",
       "      <td>сыграть свадьбу</td>\n",
       "    </tr>\n",
       "    <tr>\n",
       "      <th>5</th>\n",
       "      <td>0</td>\n",
       "      <td>-926.185831</td>\n",
       "      <td>27</td>\n",
       "      <td>высшее</td>\n",
       "      <td>0</td>\n",
       "      <td>гражданский брак</td>\n",
       "      <td>1</td>\n",
       "      <td>M</td>\n",
       "      <td>компаньон</td>\n",
       "      <td>0</td>\n",
       "      <td>255763.565419</td>\n",
       "      <td>покупка жилья</td>\n",
       "    </tr>\n",
       "    <tr>\n",
       "      <th>6</th>\n",
       "      <td>0</td>\n",
       "      <td>-2879.202052</td>\n",
       "      <td>43</td>\n",
       "      <td>высшее</td>\n",
       "      <td>0</td>\n",
       "      <td>женат / замужем</td>\n",
       "      <td>0</td>\n",
       "      <td>F</td>\n",
       "      <td>компаньон</td>\n",
       "      <td>0</td>\n",
       "      <td>240525.971920</td>\n",
       "      <td>операции с жильем</td>\n",
       "    </tr>\n",
       "    <tr>\n",
       "      <th>7</th>\n",
       "      <td>0</td>\n",
       "      <td>-152.779569</td>\n",
       "      <td>50</td>\n",
       "      <td>СРЕДНЕЕ</td>\n",
       "      <td>1</td>\n",
       "      <td>женат / замужем</td>\n",
       "      <td>0</td>\n",
       "      <td>M</td>\n",
       "      <td>сотрудник</td>\n",
       "      <td>0</td>\n",
       "      <td>135823.934197</td>\n",
       "      <td>образование</td>\n",
       "    </tr>\n",
       "    <tr>\n",
       "      <th>8</th>\n",
       "      <td>2</td>\n",
       "      <td>-6929.865299</td>\n",
       "      <td>35</td>\n",
       "      <td>ВЫСШЕЕ</td>\n",
       "      <td>0</td>\n",
       "      <td>гражданский брак</td>\n",
       "      <td>1</td>\n",
       "      <td>F</td>\n",
       "      <td>сотрудник</td>\n",
       "      <td>0</td>\n",
       "      <td>95856.832424</td>\n",
       "      <td>на проведение свадьбы</td>\n",
       "    </tr>\n",
       "    <tr>\n",
       "      <th>9</th>\n",
       "      <td>0</td>\n",
       "      <td>-2188.756445</td>\n",
       "      <td>41</td>\n",
       "      <td>среднее</td>\n",
       "      <td>1</td>\n",
       "      <td>женат / замужем</td>\n",
       "      <td>0</td>\n",
       "      <td>M</td>\n",
       "      <td>сотрудник</td>\n",
       "      <td>0</td>\n",
       "      <td>144425.938277</td>\n",
       "      <td>покупка жилья для семьи</td>\n",
       "    </tr>\n",
       "    <tr>\n",
       "      <th>10</th>\n",
       "      <td>2</td>\n",
       "      <td>-4171.483647</td>\n",
       "      <td>36</td>\n",
       "      <td>высшее</td>\n",
       "      <td>0</td>\n",
       "      <td>женат / замужем</td>\n",
       "      <td>0</td>\n",
       "      <td>M</td>\n",
       "      <td>компаньон</td>\n",
       "      <td>0</td>\n",
       "      <td>113943.491460</td>\n",
       "      <td>покупка недвижимости</td>\n",
       "    </tr>\n",
       "    <tr>\n",
       "      <th>11</th>\n",
       "      <td>0</td>\n",
       "      <td>-792.701887</td>\n",
       "      <td>40</td>\n",
       "      <td>среднее</td>\n",
       "      <td>1</td>\n",
       "      <td>женат / замужем</td>\n",
       "      <td>0</td>\n",
       "      <td>F</td>\n",
       "      <td>сотрудник</td>\n",
       "      <td>0</td>\n",
       "      <td>77069.234271</td>\n",
       "      <td>покупка коммерческой недвижимости</td>\n",
       "    </tr>\n",
       "    <tr>\n",
       "      <th>12</th>\n",
       "      <td>0</td>\n",
       "      <td>NaN</td>\n",
       "      <td>65</td>\n",
       "      <td>среднее</td>\n",
       "      <td>1</td>\n",
       "      <td>гражданский брак</td>\n",
       "      <td>1</td>\n",
       "      <td>M</td>\n",
       "      <td>пенсионер</td>\n",
       "      <td>0</td>\n",
       "      <td>NaN</td>\n",
       "      <td>сыграть свадьбу</td>\n",
       "    </tr>\n",
       "    <tr>\n",
       "      <th>13</th>\n",
       "      <td>0</td>\n",
       "      <td>-1846.641941</td>\n",
       "      <td>54</td>\n",
       "      <td>неоконченное высшее</td>\n",
       "      <td>2</td>\n",
       "      <td>женат / замужем</td>\n",
       "      <td>0</td>\n",
       "      <td>F</td>\n",
       "      <td>сотрудник</td>\n",
       "      <td>0</td>\n",
       "      <td>130458.228857</td>\n",
       "      <td>приобретение автомобиля</td>\n",
       "    </tr>\n",
       "    <tr>\n",
       "      <th>14</th>\n",
       "      <td>0</td>\n",
       "      <td>-1844.956182</td>\n",
       "      <td>56</td>\n",
       "      <td>высшее</td>\n",
       "      <td>0</td>\n",
       "      <td>гражданский брак</td>\n",
       "      <td>1</td>\n",
       "      <td>F</td>\n",
       "      <td>компаньон</td>\n",
       "      <td>1</td>\n",
       "      <td>165127.911772</td>\n",
       "      <td>покупка жилой недвижимости</td>\n",
       "    </tr>\n",
       "    <tr>\n",
       "      <th>15</th>\n",
       "      <td>1</td>\n",
       "      <td>-972.364419</td>\n",
       "      <td>26</td>\n",
       "      <td>среднее</td>\n",
       "      <td>1</td>\n",
       "      <td>женат / замужем</td>\n",
       "      <td>0</td>\n",
       "      <td>F</td>\n",
       "      <td>сотрудник</td>\n",
       "      <td>0</td>\n",
       "      <td>116820.904450</td>\n",
       "      <td>строительство собственной недвижимости</td>\n",
       "    </tr>\n",
       "    <tr>\n",
       "      <th>16</th>\n",
       "      <td>0</td>\n",
       "      <td>-1719.934226</td>\n",
       "      <td>35</td>\n",
       "      <td>среднее</td>\n",
       "      <td>1</td>\n",
       "      <td>женат / замужем</td>\n",
       "      <td>0</td>\n",
       "      <td>F</td>\n",
       "      <td>сотрудник</td>\n",
       "      <td>0</td>\n",
       "      <td>289202.704229</td>\n",
       "      <td>недвижимость</td>\n",
       "    </tr>\n",
       "    <tr>\n",
       "      <th>17</th>\n",
       "      <td>0</td>\n",
       "      <td>-2369.999720</td>\n",
       "      <td>33</td>\n",
       "      <td>высшее</td>\n",
       "      <td>0</td>\n",
       "      <td>гражданский брак</td>\n",
       "      <td>1</td>\n",
       "      <td>M</td>\n",
       "      <td>сотрудник</td>\n",
       "      <td>0</td>\n",
       "      <td>90410.586745</td>\n",
       "      <td>строительство недвижимости</td>\n",
       "    </tr>\n",
       "    <tr>\n",
       "      <th>18</th>\n",
       "      <td>0</td>\n",
       "      <td>400281.136913</td>\n",
       "      <td>53</td>\n",
       "      <td>среднее</td>\n",
       "      <td>1</td>\n",
       "      <td>вдовец / вдова</td>\n",
       "      <td>2</td>\n",
       "      <td>F</td>\n",
       "      <td>пенсионер</td>\n",
       "      <td>0</td>\n",
       "      <td>56823.777243</td>\n",
       "      <td>на покупку подержанного автомобиля</td>\n",
       "    </tr>\n",
       "    <tr>\n",
       "      <th>19</th>\n",
       "      <td>0</td>\n",
       "      <td>-10038.818549</td>\n",
       "      <td>48</td>\n",
       "      <td>СРЕДНЕЕ</td>\n",
       "      <td>1</td>\n",
       "      <td>в разводе</td>\n",
       "      <td>3</td>\n",
       "      <td>F</td>\n",
       "      <td>сотрудник</td>\n",
       "      <td>0</td>\n",
       "      <td>242831.107982</td>\n",
       "      <td>на покупку своего автомобиля</td>\n",
       "    </tr>\n",
       "  </tbody>\n",
       "</table>\n",
       "</div>"
      ],
      "text/plain": [
       "    children  days_employed  dob_years            education  education_id  \\\n",
       "0          1   -8437.673028         42               высшее             0   \n",
       "1          1   -4024.803754         36              среднее             1   \n",
       "2          0   -5623.422610         33              Среднее             1   \n",
       "3          3   -4124.747207         32              среднее             1   \n",
       "4          0  340266.072047         53              среднее             1   \n",
       "5          0    -926.185831         27               высшее             0   \n",
       "6          0   -2879.202052         43               высшее             0   \n",
       "7          0    -152.779569         50              СРЕДНЕЕ             1   \n",
       "8          2   -6929.865299         35               ВЫСШЕЕ             0   \n",
       "9          0   -2188.756445         41              среднее             1   \n",
       "10         2   -4171.483647         36               высшее             0   \n",
       "11         0    -792.701887         40              среднее             1   \n",
       "12         0            NaN         65              среднее             1   \n",
       "13         0   -1846.641941         54  неоконченное высшее             2   \n",
       "14         0   -1844.956182         56               высшее             0   \n",
       "15         1    -972.364419         26              среднее             1   \n",
       "16         0   -1719.934226         35              среднее             1   \n",
       "17         0   -2369.999720         33               высшее             0   \n",
       "18         0  400281.136913         53              среднее             1   \n",
       "19         0  -10038.818549         48              СРЕДНЕЕ             1   \n",
       "\n",
       "       family_status  family_status_id gender income_type  debt  \\\n",
       "0    женат / замужем                 0      F   сотрудник     0   \n",
       "1    женат / замужем                 0      F   сотрудник     0   \n",
       "2    женат / замужем                 0      M   сотрудник     0   \n",
       "3    женат / замужем                 0      M   сотрудник     0   \n",
       "4   гражданский брак                 1      F   пенсионер     0   \n",
       "5   гражданский брак                 1      M   компаньон     0   \n",
       "6    женат / замужем                 0      F   компаньон     0   \n",
       "7    женат / замужем                 0      M   сотрудник     0   \n",
       "8   гражданский брак                 1      F   сотрудник     0   \n",
       "9    женат / замужем                 0      M   сотрудник     0   \n",
       "10   женат / замужем                 0      M   компаньон     0   \n",
       "11   женат / замужем                 0      F   сотрудник     0   \n",
       "12  гражданский брак                 1      M   пенсионер     0   \n",
       "13   женат / замужем                 0      F   сотрудник     0   \n",
       "14  гражданский брак                 1      F   компаньон     1   \n",
       "15   женат / замужем                 0      F   сотрудник     0   \n",
       "16   женат / замужем                 0      F   сотрудник     0   \n",
       "17  гражданский брак                 1      M   сотрудник     0   \n",
       "18    вдовец / вдова                 2      F   пенсионер     0   \n",
       "19         в разводе                 3      F   сотрудник     0   \n",
       "\n",
       "     total_income                                 purpose  \n",
       "0   253875.639453                           покупка жилья  \n",
       "1   112080.014102                 приобретение автомобиля  \n",
       "2   145885.952297                           покупка жилья  \n",
       "3   267628.550329              дополнительное образование  \n",
       "4   158616.077870                         сыграть свадьбу  \n",
       "5   255763.565419                           покупка жилья  \n",
       "6   240525.971920                       операции с жильем  \n",
       "7   135823.934197                             образование  \n",
       "8    95856.832424                   на проведение свадьбы  \n",
       "9   144425.938277                 покупка жилья для семьи  \n",
       "10  113943.491460                    покупка недвижимости  \n",
       "11   77069.234271       покупка коммерческой недвижимости  \n",
       "12            NaN                         сыграть свадьбу  \n",
       "13  130458.228857                 приобретение автомобиля  \n",
       "14  165127.911772              покупка жилой недвижимости  \n",
       "15  116820.904450  строительство собственной недвижимости  \n",
       "16  289202.704229                            недвижимость  \n",
       "17   90410.586745              строительство недвижимости  \n",
       "18   56823.777243      на покупку подержанного автомобиля  \n",
       "19  242831.107982            на покупку своего автомобиля  "
      ]
     },
     "execution_count": 6,
     "metadata": {},
     "output_type": "execute_result"
    }
   ],
   "source": [
    "data.head(20)"
   ]
  },
  {
   "cell_type": "markdown",
   "id": "6c627b9c",
   "metadata": {
    "deletable": false,
    "editable": false,
    "id": "1c12e233"
   },
   "source": [
    "**Задание 3. Выведите основную информацию о датафрейме с помощью метода `info()`.**"
   ]
  },
  {
   "cell_type": "code",
   "execution_count": 3,
   "id": "f86ab715",
   "metadata": {
    "deletable": false,
    "id": "2b757bca",
    "outputId": "15376089-8dad-46c9-b520-c05248d43158"
   },
   "outputs": [
    {
     "name": "stdout",
     "output_type": "stream",
     "text": [
      "<class 'pandas.core.frame.DataFrame'>\n",
      "RangeIndex: 21525 entries, 0 to 21524\n",
      "Data columns (total 12 columns):\n",
      " #   Column            Non-Null Count  Dtype  \n",
      "---  ------            --------------  -----  \n",
      " 0   children          21525 non-null  int64  \n",
      " 1   days_employed     19351 non-null  float64\n",
      " 2   dob_years         21525 non-null  int64  \n",
      " 3   education         21525 non-null  object \n",
      " 4   education_id      21525 non-null  int64  \n",
      " 5   family_status     21525 non-null  object \n",
      " 6   family_status_id  21525 non-null  int64  \n",
      " 7   gender            21525 non-null  object \n",
      " 8   income_type       21525 non-null  object \n",
      " 9   debt              21525 non-null  int64  \n",
      " 10  total_income      19351 non-null  float64\n",
      " 11  purpose           21525 non-null  object \n",
      "dtypes: float64(2), int64(5), object(5)\n",
      "memory usage: 2.0+ MB\n"
     ]
    }
   ],
   "source": [
    "data.info()"
   ]
  },
  {
   "cell_type": "markdown",
   "id": "011337af",
   "metadata": {
    "deletable": false,
    "editable": false,
    "id": "333ec665"
   },
   "source": [
    "## Предобработка данных"
   ]
  },
  {
   "cell_type": "markdown",
   "id": "d3183d2f",
   "metadata": {
    "deletable": false,
    "editable": false,
    "id": "02d92d53"
   },
   "source": [
    "### Удаление пропусков"
   ]
  },
  {
   "cell_type": "markdown",
   "id": "1ffe93e4",
   "metadata": {
    "deletable": false,
    "editable": false,
    "id": "cd84967c"
   },
   "source": [
    "**Задание 4. Выведите количество пропущенных значений для каждого столбца. Используйте комбинацию двух методов.**"
   ]
  },
  {
   "cell_type": "code",
   "execution_count": 4,
   "id": "f83a98e0",
   "metadata": {
    "deletable": false,
    "id": "7f9b2309",
    "outputId": "81f4d817-781c-465c-ed15-91ce4446810d"
   },
   "outputs": [
    {
     "data": {
      "text/plain": [
       "children               0\n",
       "days_employed       2174\n",
       "dob_years              0\n",
       "education              0\n",
       "education_id           0\n",
       "family_status          0\n",
       "family_status_id       0\n",
       "gender                 0\n",
       "income_type            0\n",
       "debt                   0\n",
       "total_income        2174\n",
       "purpose                0\n",
       "dtype: int64"
      ]
     },
     "execution_count": 4,
     "metadata": {},
     "output_type": "execute_result"
    }
   ],
   "source": [
    "data.isna().sum()"
   ]
  },
  {
   "cell_type": "markdown",
   "id": "6d04d555",
   "metadata": {
    "deletable": false,
    "editable": false,
    "id": "db86e27b"
   },
   "source": [
    "**Задание 5. В двух столбцах есть пропущенные значения. Один из них — `days_employed`. Пропуски в этом столбце вы обработаете на следующем этапе. Другой столбец с пропущенными значениями — `total_income` — хранит данные о доходах. На сумму дохода сильнее всего влияет тип занятости, поэтому заполнить пропуски в этом столбце нужно медианным значением по каждому типу из столбца `income_type`. Например, у человека с типом занятости `сотрудник` пропуск в столбце `total_income` должен быть заполнен медианным доходом среди всех записей с тем же типом.**"
   ]
  },
  {
   "cell_type": "code",
   "execution_count": 5,
   "id": "59187fad",
   "metadata": {
    "deletable": false,
    "id": "42006a93"
   },
   "outputs": [],
   "source": [
    "for t in data['income_type'].unique():\n",
    "    data.loc[(data['income_type'] == t) & (data['total_income'].isna()), 'total_income'] = \\\n",
    "    data.loc[(data['income_type'] == t), 'total_income'].median()"
   ]
  },
  {
   "cell_type": "markdown",
   "id": "5dda22dc",
   "metadata": {
    "deletable": false,
    "editable": false,
    "id": "89da5ece"
   },
   "source": [
    "### Обработка аномальных значений"
   ]
  },
  {
   "cell_type": "markdown",
   "id": "f7327a1d",
   "metadata": {
    "deletable": false,
    "editable": false,
    "id": "57964554"
   },
   "source": [
    "**Задание 6. В данных могут встречаться артефакты (аномалии) — значения, которые не отражают действительность и появились по какой-то ошибке. таким артефактом будет отрицательное количество дней трудового стажа в столбце `days_employed`. Для реальных данных это нормально. Обработайте значения в этом столбце: замените все отрицательные значения положительными с помощью метода `abs()`.**"
   ]
  },
  {
   "cell_type": "code",
   "execution_count": 6,
   "id": "ba66cf0b",
   "metadata": {
    "deletable": false,
    "id": "f6f055bf"
   },
   "outputs": [],
   "source": [
    "data['days_employed'] = data['days_employed'].abs()"
   ]
  },
  {
   "cell_type": "markdown",
   "id": "86c60de8",
   "metadata": {
    "deletable": false,
    "editable": false,
    "id": "6107dd2f"
   },
   "source": [
    "**Задание 7. Для каждого типа занятости выведите медианное значение трудового стажа `days_employed` в днях.**"
   ]
  },
  {
   "cell_type": "code",
   "execution_count": 7,
   "id": "068175fa",
   "metadata": {
    "deletable": false,
    "id": "85a5faf6",
    "outputId": "801ef80e-522b-4668-f34e-565af7432bcf"
   },
   "outputs": [
    {
     "data": {
      "text/plain": [
       "income_type\n",
       "безработный        366413.652744\n",
       "в декрете            3296.759962\n",
       "госслужащий          2689.368353\n",
       "компаньон            1547.382223\n",
       "пенсионер          365213.306266\n",
       "предприниматель       520.848083\n",
       "сотрудник            1574.202821\n",
       "студент               578.751554\n",
       "Name: days_employed, dtype: float64"
      ]
     },
     "execution_count": 7,
     "metadata": {},
     "output_type": "execute_result"
    }
   ],
   "source": [
    "data.groupby('income_type')['days_employed'].agg('median')"
   ]
  },
  {
   "cell_type": "markdown",
   "id": "dd6495de",
   "metadata": {
    "deletable": false,
    "editable": false,
    "id": "38d1a030"
   },
   "source": [
    "У двух типов (безработные и пенсионеры) получатся аномально большие значения. Исправить такие значения сложно, поэтому оставьте их как есть. Тем более этот столбец не понадобится вам для исследования."
   ]
  },
  {
   "cell_type": "markdown",
   "id": "1436c973",
   "metadata": {
    "deletable": false,
    "editable": false,
    "id": "d8a9f147"
   },
   "source": [
    "**Задание 8. Выведите перечень уникальных значений столбца `children`.**"
   ]
  },
  {
   "cell_type": "code",
   "execution_count": 8,
   "id": "cd63319c",
   "metadata": {
    "deletable": false,
    "id": "ef5056eb",
    "outputId": "6975b15c-7f95-4697-d16d-a0c79b657b03"
   },
   "outputs": [
    {
     "data": {
      "text/plain": [
       "array([ 1,  0,  3,  2, -1,  4, 20,  5])"
      ]
     },
     "execution_count": 8,
     "metadata": {},
     "output_type": "execute_result"
    }
   ],
   "source": [
    "data['children'].unique()"
   ]
  },
  {
   "cell_type": "markdown",
   "id": "5c17f324",
   "metadata": {
    "deletable": false,
    "editable": false,
    "id": "40b9ebf2"
   },
   "source": [
    "**Задание 9. В столбце `children` есть два аномальных значения. Удалите строки, в которых встречаются такие аномальные значения из датафрейма `data`.**"
   ]
  },
  {
   "cell_type": "code",
   "execution_count": 9,
   "id": "f60b1815",
   "metadata": {
    "deletable": false,
    "id": "3ff9801d"
   },
   "outputs": [],
   "source": [
    "data = data[(data['children'] != -1) & (data['children'] != 20)]"
   ]
  },
  {
   "cell_type": "markdown",
   "id": "f7537876",
   "metadata": {
    "deletable": false,
    "editable": false,
    "id": "bbc4d0ce"
   },
   "source": [
    "**Задание 10. Ещё раз выведите перечень уникальных значений столбца `children`, чтобы убедиться, что артефакты удалены.**"
   ]
  },
  {
   "cell_type": "code",
   "execution_count": 10,
   "id": "6250c3c8",
   "metadata": {
    "deletable": false,
    "id": "ad4fa8b7",
    "outputId": "b2097101-d49d-44d9-901b-32a65c9463d1"
   },
   "outputs": [
    {
     "data": {
      "text/plain": [
       "array([1, 0, 3, 2, 4, 5])"
      ]
     },
     "execution_count": 10,
     "metadata": {},
     "output_type": "execute_result"
    }
   ],
   "source": [
    "data['children'].unique()"
   ]
  },
  {
   "cell_type": "markdown",
   "id": "0a547356",
   "metadata": {
    "deletable": false,
    "editable": false,
    "id": "75440b63"
   },
   "source": [
    "### Удаление пропусков (продолжение)"
   ]
  },
  {
   "cell_type": "markdown",
   "id": "8f254897",
   "metadata": {
    "deletable": false,
    "editable": false,
    "id": "f4ea573f"
   },
   "source": [
    "**Задание 11. Заполните пропуски в столбце `days_employed` медианными значениями по каждого типа занятости `income_type`.**"
   ]
  },
  {
   "cell_type": "code",
   "execution_count": 11,
   "id": "82dfbf84",
   "metadata": {
    "deletable": false,
    "id": "af6b1a7e"
   },
   "outputs": [],
   "source": [
    "for t in data['income_type'].unique():\n",
    "    data.loc[(data['income_type'] == t) & (data['days_employed'].isna()), 'days_employed'] = \\\n",
    "    data.loc[(data['income_type'] == t), 'days_employed'].median()"
   ]
  },
  {
   "cell_type": "markdown",
   "id": "990393dd",
   "metadata": {
    "deletable": false,
    "editable": false,
    "id": "2753f40d"
   },
   "source": [
    "**Задание 12. Убедитесь, что все пропуски заполнены. Проверьте себя и ещё раз выведите количество пропущенных значений для каждого столбца с помощью двух методов.**"
   ]
  },
  {
   "cell_type": "code",
   "execution_count": 12,
   "id": "7303012e",
   "metadata": {
    "deletable": false,
    "id": "55f78bc2",
    "outputId": "8da1e4e1-358e-4e87-98c9-f261bce0a7b2"
   },
   "outputs": [
    {
     "data": {
      "text/plain": [
       "children            0\n",
       "days_employed       0\n",
       "dob_years           0\n",
       "education           0\n",
       "education_id        0\n",
       "family_status       0\n",
       "family_status_id    0\n",
       "gender              0\n",
       "income_type         0\n",
       "debt                0\n",
       "total_income        0\n",
       "purpose             0\n",
       "dtype: int64"
      ]
     },
     "execution_count": 12,
     "metadata": {},
     "output_type": "execute_result"
    }
   ],
   "source": [
    "data.isna().sum()"
   ]
  },
  {
   "cell_type": "markdown",
   "id": "d97ea188",
   "metadata": {
    "deletable": false,
    "editable": false,
    "id": "ddc81e43"
   },
   "source": [
    "### Изменение типов данных"
   ]
  },
  {
   "cell_type": "markdown",
   "id": "9a7d05bc",
   "metadata": {
    "deletable": false,
    "editable": false,
    "id": "42d19d24"
   },
   "source": [
    "**Задание 13. Замените вещественный тип данных в столбце `total_income` на целочисленный с помощью метода `astype()`.**"
   ]
  },
  {
   "cell_type": "code",
   "execution_count": 13,
   "id": "95a4469c",
   "metadata": {
    "deletable": false,
    "id": "920b65ad"
   },
   "outputs": [],
   "source": [
    "data['total_income'] = data['total_income'].astype(int)"
   ]
  },
  {
   "cell_type": "markdown",
   "id": "18796df7",
   "metadata": {
    "deletable": false,
    "editable": false,
    "id": "80c420ba"
   },
   "source": [
    "### Обработка дубликатов"
   ]
  },
  {
   "cell_type": "markdown",
   "id": "0e1f4590",
   "metadata": {
    "deletable": false,
    "editable": false
   },
   "source": [
    "**Задание 14. Обработайте неявные дубликаты в столбце `education`. В этом столбце есть одни и те же значения, но записанные по-разному: с использованием заглавных и строчных букв. Приведите их к нижнему регистру. Проверьте остальные столбцы.**"
   ]
  },
  {
   "cell_type": "code",
   "execution_count": 14,
   "id": "668f6020",
   "metadata": {
    "deletable": false
   },
   "outputs": [],
   "source": [
    "data['education'] = data['education'].str.lower()"
   ]
  },
  {
   "cell_type": "markdown",
   "id": "ac1d2cfe",
   "metadata": {
    "deletable": false,
    "editable": false,
    "id": "dc587695"
   },
   "source": [
    "**Задание 15. Выведите на экран количество строк-дубликатов в данных. Если такие строки присутствуют, удалите их.**"
   ]
  },
  {
   "cell_type": "code",
   "execution_count": 15,
   "id": "b2d6fbe9",
   "metadata": {
    "deletable": false,
    "id": "3ee445e4",
    "outputId": "9684deba-1934-42d1-99e1-cda61740f822"
   },
   "outputs": [
    {
     "data": {
      "text/plain": [
       "71"
      ]
     },
     "execution_count": 15,
     "metadata": {},
     "output_type": "execute_result"
    }
   ],
   "source": [
    "data.duplicated().sum()"
   ]
  },
  {
   "cell_type": "code",
   "execution_count": 16,
   "id": "2f99bf2f",
   "metadata": {
    "deletable": false,
    "id": "8575fe05"
   },
   "outputs": [],
   "source": [
    "data = data.drop_duplicates()"
   ]
  },
  {
   "cell_type": "markdown",
   "id": "beaa84dc",
   "metadata": {
    "deletable": false,
    "editable": false,
    "id": "9904cf55"
   },
   "source": [
    "### Категоризация данных"
   ]
  },
  {
   "cell_type": "markdown",
   "id": "6af08ba2",
   "metadata": {
    "deletable": false,
    "editable": false,
    "id": "72fcc8a2"
   },
   "source": [
    "**Задание 16. На основании диапазонов, указанных ниже, создайте в датафрейме `data` столбец `total_income_category` с категориями:**\n",
    "\n",
    "- 0–30000 — `'E'`;\n",
    "- 30001–50000 — `'D'`;\n",
    "- 50001–200000 — `'C'`;\n",
    "- 200001–1000000 — `'B'`;\n",
    "- 1000001 и выше — `'A'`.\n",
    "\n",
    "\n",
    "**Например, кредитополучателю с доходом 25000 нужно назначить категорию `'E'`, а клиенту, получающему 235000, — `'B'`. Используйте собственную функцию с именем `categorize_income()` и метод `apply()`.**"
   ]
  },
  {
   "cell_type": "code",
   "execution_count": 17,
   "id": "b2bbee07",
   "metadata": {
    "deletable": false,
    "id": "e1771346"
   },
   "outputs": [],
   "source": [
    "def categorize_income(income):\n",
    "    try:\n",
    "        if 0 <= income <= 30000:\n",
    "            return 'E'\n",
    "        elif 30001 <= income <= 50000:\n",
    "            return 'D'\n",
    "        elif 50001 <= income <= 200000:\n",
    "            return 'C'\n",
    "        elif 200001 <= income <= 1000000:\n",
    "            return 'B'\n",
    "        elif income >= 1000001:\n",
    "            return 'A'\n",
    "    except:\n",
    "        pass"
   ]
  },
  {
   "cell_type": "code",
   "execution_count": 18,
   "id": "fb6e78ba",
   "metadata": {
    "deletable": false,
    "id": "d5f3586d"
   },
   "outputs": [],
   "source": [
    "data['total_income_category'] = data['total_income'].apply(categorize_income)"
   ]
  },
  {
   "cell_type": "markdown",
   "id": "5e1387ca",
   "metadata": {
    "deletable": false,
    "editable": false,
    "id": "dde49b5c"
   },
   "source": [
    "**Задание 17. Выведите на экран перечень уникальных целей взятия кредита из столбца `purpose`.**"
   ]
  },
  {
   "cell_type": "code",
   "execution_count": 19,
   "id": "4dcdf266",
   "metadata": {
    "deletable": false,
    "id": "f67ce9b3",
    "outputId": "673c12d9-7d7e-4ae0-9812-c622c89dd244"
   },
   "outputs": [
    {
     "data": {
      "text/plain": [
       "array(['покупка жилья', 'приобретение автомобиля',\n",
       "       'дополнительное образование', 'сыграть свадьбу',\n",
       "       'операции с жильем', 'образование', 'на проведение свадьбы',\n",
       "       'покупка жилья для семьи', 'покупка недвижимости',\n",
       "       'покупка коммерческой недвижимости', 'покупка жилой недвижимости',\n",
       "       'строительство собственной недвижимости', 'недвижимость',\n",
       "       'строительство недвижимости', 'на покупку подержанного автомобиля',\n",
       "       'на покупку своего автомобиля',\n",
       "       'операции с коммерческой недвижимостью',\n",
       "       'строительство жилой недвижимости', 'жилье',\n",
       "       'операции со своей недвижимостью', 'автомобили',\n",
       "       'заняться образованием', 'сделка с подержанным автомобилем',\n",
       "       'получение образования', 'автомобиль', 'свадьба',\n",
       "       'получение дополнительного образования', 'покупка своего жилья',\n",
       "       'операции с недвижимостью', 'получение высшего образования',\n",
       "       'свой автомобиль', 'сделка с автомобилем',\n",
       "       'профильное образование', 'высшее образование',\n",
       "       'покупка жилья для сдачи', 'на покупку автомобиля', 'ремонт жилью',\n",
       "       'заняться высшим образованием'], dtype=object)"
      ]
     },
     "execution_count": 19,
     "metadata": {},
     "output_type": "execute_result"
    }
   ],
   "source": [
    "data['purpose'].unique()"
   ]
  },
  {
   "cell_type": "markdown",
   "id": "2945a5b9",
   "metadata": {
    "deletable": false,
    "editable": false,
    "id": "85d0aef0"
   },
   "source": [
    "**Задание 18. Создайте функцию, которая на основании данных из столбца `purpose` сформирует новый столбец `purpose_category`, в который войдут следующие категории:**\n",
    "\n",
    "- `'операции с автомобилем'`,\n",
    "- `'операции с недвижимостью'`,\n",
    "- `'проведение свадьбы'`,\n",
    "- `'получение образования'`.\n",
    "\n",
    "**Например, если в столбце `purpose` находится подстрока `'на покупку автомобиля'`, то в столбце `purpose_category` должна появиться строка `'операции с автомобилем'`.**\n",
    "\n",
    "**Используйте собственную функцию с именем `categorize_purpose()` и метод `apply()`. Изучите данные в столбце `purpose` и определите, какие подстроки помогут вам правильно определить категорию.**"
   ]
  },
  {
   "cell_type": "code",
   "execution_count": 20,
   "id": "1a06627a",
   "metadata": {
    "deletable": false,
    "id": "e149fab4"
   },
   "outputs": [],
   "source": [
    "def categorize_purpose (row):\n",
    "    try:\n",
    "        if 'автом' in row:\n",
    "            return 'операции с автомобилем'\n",
    "        elif 'жил' in row or 'недвиж' in row:\n",
    "            return 'операции с недвижимостью'\n",
    "        elif 'свад' in row:\n",
    "            return 'проведение свадьбы'\n",
    "        elif 'образов' in row:\n",
    "            return 'получение образования'\n",
    "    except:\n",
    "        return 'нет категории'"
   ]
  },
  {
   "cell_type": "code",
   "execution_count": 21,
   "id": "c8572250",
   "metadata": {
    "deletable": false,
    "id": "bf36e69b"
   },
   "outputs": [],
   "source": [
    "data['purpose_category'] = data['purpose'].apply(categorize_purpose)"
   ]
  },
  {
   "cell_type": "markdown",
   "id": "b33af6cd",
   "metadata": {
    "deletable": false,
    "editable": false,
    "id": "09b242bf"
   },
   "source": [
    "### Шаг 3. Исследуйте данные и ответьте на вопросы"
   ]
  },
  {
   "cell_type": "markdown",
   "id": "8b9f4568",
   "metadata": {
    "deletable": false,
    "editable": false,
    "id": "c5d66278"
   },
   "source": [
    "#### 3.1 Есть ли зависимость между количеством детей и возвратом кредита в срок?"
   ]
  },
  {
   "cell_type": "code",
   "execution_count": 22,
   "id": "1b8c0048",
   "metadata": {},
   "outputs": [
    {
     "data": {
      "text/plain": [
       "8.837185570692382"
      ]
     },
     "execution_count": 22,
     "metadata": {},
     "output_type": "execute_result"
    }
   ],
   "source": [
    "late_payment = data[(data['debt'] == 1)].count() / data[(data['debt'] == 0)].count()\n",
    "late_payment['debt']*100\n",
    "#Просрочка в % по кридиту общая."
   ]
  },
  {
   "cell_type": "markdown",
   "id": "50a16ea2",
   "metadata": {},
   "source": [
    "Получившиеся значение в 8.8% должников репрезентативна и может помочь для дальнейших выводов."
   ]
  },
  {
   "cell_type": "code",
   "execution_count": 23,
   "id": "ef5c6e5f",
   "metadata": {
    "deletable": false,
    "id": "2cacfc4a"
   },
   "outputs": [
    {
     "name": "stdout",
     "output_type": "stream",
     "text": [
      "8.16% Нет детей\n",
      "10.17% 1 Ребенок\n",
      "10.44% 2 Ребенка\n",
      "8.91% 3 Ребенка\n",
      "10.81% 4 Ребенка\n"
     ]
    }
   ],
   "source": [
    "# Ваш код будет здесь. Вы можете создавать новые ячейки.\n",
    "debt_and_children = data.pivot_table(index=['debt'], columns='children', values = 'family_status_id', aggfunc='count')\n",
    "\n",
    "#Предобработка данных - 3.Изменение типов данных - 8.Сводные таблицы\n",
    "#index — столбец или столбцы, по которым группируют данные\n",
    "#columns — столбец, по значениям которого происходит группировка\n",
    "#values — значения, по которым мы хотим увидеть сводную таблицу\n",
    "#aggfunc — функция, применяемая к значениям\n",
    "\n",
    "ch0 = debt_and_children[0][1] / debt_and_children[0][0]\n",
    "ch1 = debt_and_children[1][1] / debt_and_children[1][0]\n",
    "ch2 = debt_and_children[2][1] / debt_and_children[2][0]\n",
    "ch3 = debt_and_children[3][1] / debt_and_children[3][0]\n",
    "ch4 = debt_and_children[4][1] / debt_and_children[4][0]\n",
    "print(\"{0:.2f}% Нет детей\".format(ch0*100))\n",
    "print(\"{0:.2f}% 1 Ребенок\".format(ch1*100))\n",
    "print(\"{0:.2f}% 2 Ребенка\".format(ch2*100))\n",
    "print(\"{0:.2f}% 3 Ребенка\".format(ch3*100))\n",
    "print(\"{0:.2f}% 4 Ребенка\".format(ch4*100))"
   ]
  },
  {
   "cell_type": "code",
   "execution_count": 37,
   "id": "e7bfacbb",
   "metadata": {},
   "outputs": [
    {
     "data": {
      "text/plain": [
       "children\n",
       "0    7.543822\n",
       "1    9.234609\n",
       "2    9.454191\n",
       "3    8.181818\n",
       "4    9.756098\n",
       "5    0.000000\n",
       "dtype: float64"
      ]
     },
     "execution_count": 37,
     "metadata": {},
     "output_type": "execute_result"
    }
   ],
   "source": [
    "chil_debt = data.groupby('children').agg({'debt':['count','sum']})\n",
    "chil_quality = chil_debt['debt']['sum']/chil_debt['debt']['count']\n",
    "chil_quality*100 "
   ]
  },
  {
   "cell_type": "code",
   "execution_count": 25,
   "id": "ae7492f4",
   "metadata": {},
   "outputs": [
    {
     "data": {
      "text/html": [
       "<div>\n",
       "<style scoped>\n",
       "    .dataframe tbody tr th:only-of-type {\n",
       "        vertical-align: middle;\n",
       "    }\n",
       "\n",
       "    .dataframe tbody tr th {\n",
       "        vertical-align: top;\n",
       "    }\n",
       "\n",
       "    .dataframe thead th {\n",
       "        text-align: right;\n",
       "    }\n",
       "</style>\n",
       "<table border=\"1\" class=\"dataframe\">\n",
       "  <thead>\n",
       "    <tr style=\"text-align: right;\">\n",
       "      <th>children</th>\n",
       "      <th>0</th>\n",
       "      <th>1</th>\n",
       "      <th>2</th>\n",
       "      <th>3</th>\n",
       "      <th>4</th>\n",
       "      <th>5</th>\n",
       "    </tr>\n",
       "    <tr>\n",
       "      <th>debt</th>\n",
       "      <th></th>\n",
       "      <th></th>\n",
       "      <th></th>\n",
       "      <th></th>\n",
       "      <th></th>\n",
       "      <th></th>\n",
       "    </tr>\n",
       "  </thead>\n",
       "  <tbody>\n",
       "    <tr>\n",
       "      <th>0</th>\n",
       "      <td>13028.0</td>\n",
       "      <td>4364.0</td>\n",
       "      <td>1858.0</td>\n",
       "      <td>303.0</td>\n",
       "      <td>37.0</td>\n",
       "      <td>9.0</td>\n",
       "    </tr>\n",
       "    <tr>\n",
       "      <th>1</th>\n",
       "      <td>1063.0</td>\n",
       "      <td>444.0</td>\n",
       "      <td>194.0</td>\n",
       "      <td>27.0</td>\n",
       "      <td>4.0</td>\n",
       "      <td>NaN</td>\n",
       "    </tr>\n",
       "  </tbody>\n",
       "</table>\n",
       "</div>"
      ],
      "text/plain": [
       "children        0       1       2      3     4    5\n",
       "debt                                               \n",
       "0         13028.0  4364.0  1858.0  303.0  37.0  9.0\n",
       "1          1063.0   444.0   194.0   27.0   4.0  NaN"
      ]
     },
     "execution_count": 25,
     "metadata": {},
     "output_type": "execute_result"
    }
   ],
   "source": [
    "# это твой код с соответствующим output'ом\n",
    "\n",
    "debt_and_children = data.pivot_table(index=['debt'], columns='children', values = 'family_status_id', aggfunc='count')\n",
    "\n",
    "debt_and_children"
   ]
  },
  {
   "cell_type": "code",
   "execution_count": 26,
   "id": "0fa1c54b",
   "metadata": {},
   "outputs": [
    {
     "data": {
      "text/html": [
       "<div>\n",
       "<style scoped>\n",
       "    .dataframe tbody tr th:only-of-type {\n",
       "        vertical-align: middle;\n",
       "    }\n",
       "\n",
       "    .dataframe tbody tr th {\n",
       "        vertical-align: top;\n",
       "    }\n",
       "\n",
       "    .dataframe thead th {\n",
       "        text-align: right;\n",
       "    }\n",
       "</style>\n",
       "<table border=\"1\" class=\"dataframe\">\n",
       "  <thead>\n",
       "    <tr style=\"text-align: right;\">\n",
       "      <th>debt</th>\n",
       "      <th>0</th>\n",
       "      <th>1</th>\n",
       "    </tr>\n",
       "    <tr>\n",
       "      <th>children</th>\n",
       "      <th></th>\n",
       "      <th></th>\n",
       "    </tr>\n",
       "  </thead>\n",
       "  <tbody>\n",
       "    <tr>\n",
       "      <th>0</th>\n",
       "      <td>13028</td>\n",
       "      <td>1063</td>\n",
       "    </tr>\n",
       "    <tr>\n",
       "      <th>1</th>\n",
       "      <td>4364</td>\n",
       "      <td>444</td>\n",
       "    </tr>\n",
       "    <tr>\n",
       "      <th>2</th>\n",
       "      <td>1858</td>\n",
       "      <td>194</td>\n",
       "    </tr>\n",
       "    <tr>\n",
       "      <th>3</th>\n",
       "      <td>303</td>\n",
       "      <td>27</td>\n",
       "    </tr>\n",
       "    <tr>\n",
       "      <th>4</th>\n",
       "      <td>37</td>\n",
       "      <td>4</td>\n",
       "    </tr>\n",
       "    <tr>\n",
       "      <th>5</th>\n",
       "      <td>9</td>\n",
       "      <td>0</td>\n",
       "    </tr>\n",
       "  </tbody>\n",
       "</table>\n",
       "</div>"
      ],
      "text/plain": [
       "debt          0     1\n",
       "children             \n",
       "0         13028  1063\n",
       "1          4364   444\n",
       "2          1858   194\n",
       "3           303    27\n",
       "4            37     4\n",
       "5             9     0"
      ]
     },
     "execution_count": 26,
     "metadata": {},
     "output_type": "execute_result"
    }
   ],
   "source": [
    "# 1.Мне здесь не нравиться, что в индексе не количество детей, а в столбцах не признак долга (поэтому я сейчас эти 2 параметра \n",
    "# \"махну местами\"). Резульат будет привычно вытянут вниз, вместо непривычного - \"по горизонтали\" (хотя это дело вкуса).\n",
    "\n",
    "debt_and_children = data \\\n",
    "                        .pivot_table(index='children', \n",
    "                                     columns='debt', \n",
    "                                     values = 'family_status_id', \n",
    "                                     aggfunc='count',\n",
    "                                     fill_value=0)\n",
    "\n",
    "debt_and_children"
   ]
  },
  {
   "cell_type": "code",
   "execution_count": 27,
   "id": "ddf26ce3",
   "metadata": {},
   "outputs": [
    {
     "data": {
      "text/html": [
       "<div>\n",
       "<style scoped>\n",
       "    .dataframe tbody tr th:only-of-type {\n",
       "        vertical-align: middle;\n",
       "    }\n",
       "\n",
       "    .dataframe tbody tr th {\n",
       "        vertical-align: top;\n",
       "    }\n",
       "\n",
       "    .dataframe thead th {\n",
       "        text-align: right;\n",
       "    }\n",
       "</style>\n",
       "<table border=\"1\" class=\"dataframe\">\n",
       "  <thead>\n",
       "    <tr style=\"text-align: right;\">\n",
       "      <th>debt</th>\n",
       "      <th>0</th>\n",
       "      <th>1</th>\n",
       "      <th>%</th>\n",
       "    </tr>\n",
       "    <tr>\n",
       "      <th>children</th>\n",
       "      <th></th>\n",
       "      <th></th>\n",
       "      <th></th>\n",
       "    </tr>\n",
       "  </thead>\n",
       "  <tbody>\n",
       "    <tr>\n",
       "      <th>0</th>\n",
       "      <td>13028</td>\n",
       "      <td>1063</td>\n",
       "      <td>7.54</td>\n",
       "    </tr>\n",
       "    <tr>\n",
       "      <th>1</th>\n",
       "      <td>4364</td>\n",
       "      <td>444</td>\n",
       "      <td>9.23</td>\n",
       "    </tr>\n",
       "    <tr>\n",
       "      <th>2</th>\n",
       "      <td>1858</td>\n",
       "      <td>194</td>\n",
       "      <td>9.45</td>\n",
       "    </tr>\n",
       "    <tr>\n",
       "      <th>3</th>\n",
       "      <td>303</td>\n",
       "      <td>27</td>\n",
       "      <td>8.18</td>\n",
       "    </tr>\n",
       "    <tr>\n",
       "      <th>4</th>\n",
       "      <td>37</td>\n",
       "      <td>4</td>\n",
       "      <td>9.76</td>\n",
       "    </tr>\n",
       "    <tr>\n",
       "      <th>5</th>\n",
       "      <td>9</td>\n",
       "      <td>0</td>\n",
       "      <td>0.00</td>\n",
       "    </tr>\n",
       "  </tbody>\n",
       "</table>\n",
       "</div>"
      ],
      "text/plain": [
       "debt          0     1     %\n",
       "children                   \n",
       "0         13028  1063  7.54\n",
       "1          4364   444  9.23\n",
       "2          1858   194  9.45\n",
       "3           303    27  8.18\n",
       "4            37     4  9.76\n",
       "5             9     0  0.00"
      ]
     },
     "execution_count": 27,
     "metadata": {},
     "output_type": "execute_result"
    }
   ],
   "source": [
    "# 2.Ну и нахождение % должников у меня короче, в одну строку.\n",
    "\n",
    "debt_and_children['%'] = round((debt_and_children[1] / (debt_and_children[0] + debt_and_children[1])) * 100, 2)\n",
    "\n",
    "debt_and_children"
   ]
  },
  {
   "cell_type": "markdown",
   "id": "41f1f755",
   "metadata": {
    "deletable": false,
    "id": "3a6b99ec"
   },
   "source": [
    "**Вывод:** \n",
    "Люди с детьми имеют задолжность чаще чем без детей. Причем из за вклада в общую просрочку оплаты, долг вырастает больше чем на пол процента. Разница довольно существенная между нет детей и есть дети, можно было бы пообщатся со специалистами банка. Обратить внимание на это провителство и попытатся договарится о субсидиях людям с детьми как наиболее приорететным и незащещенным слоям населения. К примеру льготная ипотека повышает цены на квартиры из за увеличения спроса на них, но расходует деньги за счет покрытия издержек. Кредиты это топлива роста, но и здесь надо понимать риски и сохранять баланс. Работать на опережения. Статистика прекрасный инструмент, но и ее надо применять с умом."
   ]
  },
  {
   "cell_type": "markdown",
   "id": "36503e5f",
   "metadata": {
    "deletable": false,
    "editable": false,
    "id": "97be82ca"
   },
   "source": [
    "#### 3.2 Есть ли зависимость между семейным положением и возвратом кредита в срок?"
   ]
  },
  {
   "cell_type": "code",
   "execution_count": 28,
   "id": "40de7ecb",
   "metadata": {
    "deletable": false,
    "id": "dc3f7ee8"
   },
   "outputs": [
    {
     "data": {
      "text/plain": [
       "family_status\n",
       "Не женат / не замужем    9.763948\n",
       "в разводе                7.064760\n",
       "вдовец / вдова           6.624606\n",
       "гражданский брак         9.313014\n",
       "женат / замужем          7.560558\n",
       "dtype: float64"
      ]
     },
     "execution_count": 28,
     "metadata": {},
     "output_type": "execute_result"
    }
   ],
   "source": [
    "# Ваш код будет здесь. Вы можете создавать новые ячейки.\n",
    "family_grouped=data.groupby('family_status').agg({'debt':['count','sum']}) \n",
    "family_debt_quality=family_grouped['debt']['sum']/family_grouped['debt']['count']\n",
    "family_debt_quality*100"
   ]
  },
  {
   "cell_type": "markdown",
   "id": "10ac896e",
   "metadata": {},
   "source": [
    "**Вывод:** Тут тоже есть существенная кореляция. К примеру видно что вдовец / вдова почти на треть чаще вовремя платят чем Не женат / не замужем . Хотя тут могут сочетатся такие факторы как возрост. к примеру можно предположить, что большенство тех кто развелся или потерял супруга/супругу старше холостых или начавших свои отношения. Эту теорию можно проверить, но данных кто когда овдовел нет так что выводы будут косвенными."
   ]
  },
  {
   "cell_type": "code",
   "execution_count": 32,
   "id": "828fdc9a",
   "metadata": {},
   "outputs": [
    {
     "data": {
      "text/plain": [
       "dob_years\n",
       "0      8.000000\n",
       "19     7.142857\n",
       "20     7.843137\n",
       "21    12.727273\n",
       "22    13.661202\n",
       "23     8.000000\n",
       "24     9.125475\n",
       "25    12.078652\n",
       "26    11.576355\n",
       "27    10.000000\n",
       "28    11.377246\n",
       "29    11.992620\n",
       "30    10.131332\n",
       "31    13.693694\n",
       "32    10.099010\n",
       "33     9.532062\n",
       "34    10.588235\n",
       "35     7.667210\n",
       "36     7.789855\n",
       "37     9.622642\n",
       "38    10.774411\n",
       "39     7.705779\n",
       "40     7.820300\n",
       "41     8.153078\n",
       "42     7.106599\n",
       "43     8.644401\n",
       "44     7.578558\n",
       "45     7.910751\n",
       "46     8.154506\n",
       "47     7.756813\n",
       "48     6.179775\n",
       "49     6.138614\n",
       "50     9.055118\n",
       "51     5.405405\n",
       "52     5.797101\n",
       "53     7.658643\n",
       "54     6.553911\n",
       "55     5.215420\n",
       "56     6.694561\n",
       "57     6.622517\n",
       "58     5.286344\n",
       "59     6.818182\n",
       "60     5.898123\n",
       "61     2.840909\n",
       "62     5.187320\n",
       "63     4.477612\n",
       "64     4.651163\n",
       "65     7.253886\n",
       "66     4.395604\n",
       "67     5.389222\n",
       "68     8.080808\n",
       "69     4.819277\n",
       "70     4.615385\n",
       "71     1.785714\n",
       "72     6.060606\n",
       "73     0.000000\n",
       "74     0.000000\n",
       "75     0.000000\n",
       "dtype: float64"
      ]
     },
     "execution_count": 32,
     "metadata": {},
     "output_type": "execute_result"
    }
   ],
   "source": [
    "dob_years=data.groupby('dob_years').agg({'debt':['count','sum']}) \n",
    "dob_years_quality=dob_years['debt']['sum']/dob_years['debt']['count']\n",
    "dob_years_quality*100"
   ]
  },
  {
   "cell_type": "markdown",
   "id": "dd5f6b37",
   "metadata": {
    "deletable": false,
    "id": "1cef7837"
   },
   "source": [
    "**Вывод:** Как видно из таблицы люди до 35 чаще невыплачивают задолжность. Хоть есть года с довольно высоким показателем как и с аномально низким, но это может быть из за относительно неравномерного распределения полученных данных либо активности людей."
   ]
  },
  {
   "cell_type": "markdown",
   "id": "9a35af9f",
   "metadata": {
    "deletable": false,
    "editable": false,
    "id": "1e8b2fca"
   },
   "source": [
    "#### 3.3 Есть ли зависимость между уровнем дохода и возвратом кредита в срок?"
   ]
  },
  {
   "cell_type": "code",
   "execution_count": 30,
   "id": "f8788c5e",
   "metadata": {
    "deletable": false,
    "id": "cd7e3720"
   },
   "outputs": [
    {
     "name": "stdout",
     "output_type": "stream",
     "text": [
      "10.00% Категория E (Доход от 0 до 30000 р.)\n",
      "6.40% Категория D (Доход от 30001 до 50000 р.)\n",
      "9.29% Категория C (Доход от 50001 до 200000 р.)\n",
      "7.60% Категория B (Доход от 200001 до 1000000 р.)\n",
      "8.70% Категория A (Более 1000000 р.)\n"
     ]
    }
   ],
   "source": [
    "# Ваш код будет здесь. Вы можете создавать новые ячейки.\n",
    "total = data.pivot_table(index=['debt'], columns='total_income_category', values='total_income', aggfunc='count')\n",
    "\n",
    "in1 = total['E'][1] / total['E'][0]\n",
    "in2 = total['D'][1] / total['D'][0]\n",
    "in3 = total['C'][1] / total['C'][0]\n",
    "in4 = total['B'][1] / total['B'][0]\n",
    "in5 = total['A'][1] / total['A'][0]\n",
    "\n",
    "print(\"{0:.2f}% Категория E (Доход от 0 до 30000 р.)\".format(in1*100))\n",
    "print(\"{0:.2f}% Категория D (Доход от 30001 до 50000 р.)\".format(in2*100))\n",
    "print(\"{0:.2f}% Категория C (Доход от 50001 до 200000 р.)\".format(in3*100))\n",
    "print(\"{0:.2f}% Категория B (Доход от 200001 до 1000000 р.)\".format(in4*100))\n",
    "print(\"{0:.2f}% Категория A (Более 1000000 р.)\".format(in5*100))"
   ]
  },
  {
   "cell_type": "markdown",
   "id": "f2eadca2",
   "metadata": {
    "deletable": false,
    "id": "e8593def"
   },
   "source": [
    "**Вывод:** Разница имеется. Чаще отдают люди с доходом от 30000 до 50000 рублей. Если категорию Е (0-30000) можно обяснить нехваткой денег то почему люди с доходом выше 50000 платят реже? Я предпологаю, что это из за других условий кредита, и сумм кредитования которые резко отличаются для них. Но это надо уточнять у специалистов банка. "
   ]
  },
  {
   "cell_type": "markdown",
   "id": "a5cf13ac",
   "metadata": {
    "deletable": false,
    "editable": false,
    "id": "99ecbd1f"
   },
   "source": [
    "#### 3.4 Как разные цели кредита влияют на его возврат в срок?"
   ]
  },
  {
   "cell_type": "code",
   "execution_count": 31,
   "id": "ec40688c",
   "metadata": {
    "deletable": false,
    "id": "2b687290"
   },
   "outputs": [
    {
     "name": "stdout",
     "output_type": "stream",
     "text": [
      "10.31% операции с автомобилем\n",
      "7.82% операции с недвижимостью\n",
      "10.20% получение образования\n",
      "8.59% проведение свадьбы\n"
     ]
    }
   ],
   "source": [
    "# Ваш код будет здесь. Вы можете создавать новые ячейки.\n",
    "purpose = data.pivot_table(index=['debt'], columns='purpose_category', values='total_income_category', aggfunc='count')\n",
    "\n",
    "in1 = purpose['операции с автомобилем'][1] / purpose['операции с автомобилем'][0]\n",
    "in2 = purpose['операции с недвижимостью'][1] / purpose['операции с недвижимостью'][0]\n",
    "in3 = purpose['получение образования'][1] / purpose['получение образования'][0]\n",
    "in4 = purpose['проведение свадьбы'][1] / purpose['проведение свадьбы'][0]\n",
    "\n",
    "\n",
    "print(\"{0:.2f}% операции с автомобилем\".format(in1*100))\n",
    "print(\"{0:.2f}% операции с недвижимостью\".format(in2*100))\n",
    "print(\"{0:.2f}% получение образования\".format(in3*100))\n",
    "print(\"{0:.2f}% проведение свадьбы\".format(in4*100))"
   ]
  },
  {
   "cell_type": "markdown",
   "id": "2c6b03a1",
   "metadata": {
    "deletable": false,
    "id": "b4bb2ce6"
   },
   "source": [
    "**Вывод:** В различных категориях, различный процент задолжности. Такая кореляция скорее всего из за того, что при получении квартиры часто она служит горантом уплаты. Образование чаще требуется молодым людям, а они чаще перестают платить (как видно из таблице dob_years), довольно сложно учится и работать одновременно."
   ]
  },
  {
   "cell_type": "markdown",
   "id": "33649ace",
   "metadata": {
    "deletable": false,
    "editable": false,
    "id": "09c3ac4c"
   },
   "source": [
    "#### 3.5 Приведите возможные причины появления пропусков в исходных данных."
   ]
  },
  {
   "cell_type": "markdown",
   "id": "4e322cd9",
   "metadata": {
    "deletable": false,
    "id": "9da2ceda"
   },
   "source": [
    "*Ответ:* Причины могут быть различными в зависимости от ситуации. По большей части пропуски зависят от системы которая собирает данные. Если при заходе на сайт он фиксирует время прибывания и сам дает уникальный номер посетившего, имя  и семейное положение может получть только при регистрации посетителя на сайте, к примеру уровень доходов можно указать по желанию, то и уровень заполнености будет разный. Да и сама информация заполненная в ручную посетителем может быть неверной, поэтому анамалии при исследовании тоже оень важны. В исследовании даже пропуски могут быть важной информацией.\n",
    "В таблице предложенной нам пропуски были в total_income (суммарный доход) и days employed (дни работы). Могу предположить, что эти люди неимеют постоянного легального дохода. Они живут либо за счет мецинатов (родственников, содержантов), либо получают деньги в конверти (имеют устную договаренность и их доход не фиксируется). Могу предположить, что сам практикум удалил данные для дополнительных заданий и показа важности медианы, но против этой теории говорит одно итоже количества пропусков в 2 колонках, при этом данные days employed неиспользуются. Возможно days employed использовалась ранее или используется в других практикумах."
   ]
  },
  {
   "cell_type": "markdown",
   "id": "10049c2b",
   "metadata": {
    "deletable": false,
    "editable": false,
    "id": "7b0487d6"
   },
   "source": [
    "#### 3.6 Объясните, почему заполнить пропуски медианным значением — лучшее решение для количественных переменных."
   ]
  },
  {
   "cell_type": "markdown",
   "id": "df0d29c4",
   "metadata": {
    "deletable": false,
    "id": "7ecf2b8e"
   },
   "source": [
    "*Ответ:*  Поскольку очень высокие зарплаты как и очень низкие могут сильно сдвинуть среднее значения и непоказать картины для большенства. Из за этого могут быть приняты неверные решения. Также и медиану лучше брать для каждого типа заначений отдельно, это тоже поможет увидить картину более точно."
   ]
  },
  {
   "cell_type": "markdown",
   "id": "3b0b89f0",
   "metadata": {
    "deletable": false,
    "editable": false,
    "id": "6db5255a"
   },
   "source": [
    "### Шаг 4: общий вывод."
   ]
  },
  {
   "cell_type": "markdown",
   "id": "aa49ebdc",
   "metadata": {
    "deletable": false,
    "id": "bad65432"
   },
   "source": [
    "Анализируя по разным групам я подумал, что возраст тоже может являтся одним из ключевых факторов и проверил свою гипотизу. Она показала определенную тенденцию, но поней нельзя сделать однозначного вывода. Тут и косвенные выводы показывают разные значения. К примеру чем больше детей тем скорее всего старше человек, но у кого нет детей тот более надежный платильщик (это логично поскольку меньше обязательств и расходов), но в целом обычно саршие люди имеют более стабильный доход. Как и везде существует множество факторов и противовесов, жизненных условий и обстоятельств меняющих те или иные показатели. Конечно для данной сферы среднее 8.8% должников и разница в +-2% являются существенными, но для всестороннего анализа и выробатки мер по улучшению работы и уменьшению задолжности нужно проводить более всесторонний анализ и работать с професионалами разных сфер. Но даже такие иследования могут показать в каком направлении стоит двигатся,и где могут возникнуть проблемы. Интересно было бы посмотреть данные в динамики (как меняеся плотижеспособнасть населения в разные временные периуды). \n",
    "Если бы обращали больши внимания на данные и анализ то могли бы избежать кризиса 2008 года."
   ]
  },
  {
   "cell_type": "markdown",
   "id": "e02b90df",
   "metadata": {},
   "source": [
    "<div style=\"background: #B0E0E6; padding: 5px; border: 1px solid SteelBlue; border-radius: 5px;\">\n",
    "    <font color='4682B4'><u><b>КОММЕНТАРИЙ</b></u></font>\n",
    "    <br />\n",
    "    <font color='4682B4'>\n",
    "<skj \n",
    "     \n",
    "   Для кредитного отдела банка было проведено иследование в котором разбиралось, влияет ли семейное положение и количество детей клиента на факт погашения кредита в срок. Входные данные от банка — статистика о платёжеспособности клиентов.\n",
    "Результаты исследования будут учтены при построении модели кредитного скоринга — специальной системы, которая оценивает способность потенциального заёмщика вернуть кредит банку. Было выдвинуто четыре гипотезы и установили.\n",
    "     \n",
    "                         1 Гипотиза. Есть зависимость между количеством детей и возвратом кредита в срок. \n",
    "   \n",
    "\t\t\n",
    "* Бездетей выплачивают 13028, должников 1063, что составляет 7.54% (У кого нет детей выплачивают стабильнее, но в будущем они могут появится)\n",
    "* С 1\tребенкам выплачивают 4364, должников 444, что составляет 9.23 - (У людей с детьми больше финансовых обязательств, кредит платить сложнее)\n",
    "* С 2 детьми 1858, должников 194, что составляет 9.45 - (Появление второго ребенка не так сильно меняет бюджету и образ жизни как первого.)\n",
    "* С 3 детьми 303, должников\t27, что составляет 8.18 - (Малая выборка, может сильно отклонятся от анализа с большими величинами)\n",
    "* С 4 детьми 37, должников 4, что составляет 9.76 - (Слишком малая выборка, не является репрезентативной) \n",
    "* С 5 детьми 9,\tдолжников 0\t- (Слишком малая выборка в расчет можно не брать)\n",
    "\n",
    "     Таким образом, первая гипотеза подтвердилась лишь отчасти. Этот результат мог оказаться иным, если бы выборка была больше. Да и в течении выпоаты могут появится дети.\n",
    "  \n",
    "     \n",
    "                           2 Гипотиза. Выявили зависимость между семейным положением и возвратом кредита в срок:\n",
    "    \n",
    "* Из не женатых / не замужных 9.76%\n",
    "* Тех кто в разводе 7.06\n",
    "* У вдовцов / вдов 6.62\n",
    "* Тех кто в гражданском браке 9.31\n",
    "* Женатых / замужных 7.56\n",
    "\n",
    "Вторая гипотеза подтвердилась. Но появилось подозрение, что приволирующим стал возраст, а не семейное положения, для дополнительной гипотизы был сделан срез по возрасту, в нем люди до 35 в среднем чаще невыплачивают задолжность, но кореляция не линейа со своими аномалиями, поэтому возраст можно учитывать, но сильную опору на него делать не стоит.\n",
    "\n",
    "                         3 Гипотиза. Зависимость между уровнем дохода и возвратом кредита в срок.\n",
    "* 10.00% Категория E (Доход от 0 до 30000 р.) - (Реже отдают долг, можно предположить, что из за нехватки средств)\n",
    "* 6.40% Категория D (Доход от 30001 до 50000 р.) - (Самая надежная группа платильщиков)\n",
    "* 9.29% Категория C (Доход от 50001 до 200000 р.) - (Снова видим увеличения неплатильщиков, возможно из за одобрения слишков высоких кредитов)\n",
    "* 7.60% Категория B (Доход от 200001 до 1000000 р.) - (снова снижение)\n",
    "* 8.70% Категория A (Более 1000000 р. - (и снова увеличение). \n",
    "     Таким образом, третья гипотеза подтвердилась лишь отчасти. Этот результат мог оказаться иным, если бы не пропуски в данных.\n",
    "     \n",
    "                                   4 Гипотиза. Как разные цели кредита влияют на его возврат в срок\n",
    "* 10.31% операции с автомобилем (Довольно высокий кредит, из за чего сложно его выплачивать, но мативация для выплат вовремя меньше чем у ипотеки)\n",
    "* 7.82% операции с недвижимостью (Часто залогом является квартира и люди нехотят ее лишится)\n",
    "* 10.20% получение образования (Сложно учится и полноценно работать одновременно)\n",
    "* 8.59% проведение свадьбы (Теперь они еще и в категории Женатых / замужных).\n",
    "     \n",
    "     Таким образом, четвертая гипотеза подтвердилась. \n",
    "\n",
    "**Общие рекомендации.**\n",
    "\n",
    "* 1. Я бы не советовал опиратся на количество детей. Выборка более трех детей не репрезентативна. А в будущем у клиента могут появится.дети\n",
    "* 2. Можно использовать семейное положение, в ней прослеживается кореляция, и изменения семейного статуса заемщика скорее всего будет в пользу банка.\n",
    "* 3. Уровень дохода можно принять к сведению, но не опиратся на него. Из полных данных результат мог бы отличатся.\n",
    "* 4. Цели кредита рекомендованы к использованию.\n",
    "* Для лучшего результата нужна более всестороннии иследования, желательно с дополнительными данными.\n",
    "    </font>\n",
    "</div>"
   ]
  }
 ],
 "metadata": {
  "ExecuteTimeLog": [
   {
    "duration": 51,
    "start_time": "2022-11-21T15:45:43.143Z"
   },
   {
    "duration": 542,
    "start_time": "2022-11-21T15:45:57.814Z"
   },
   {
    "duration": 25,
    "start_time": "2022-11-21T15:45:58.357Z"
   },
   {
    "duration": 16,
    "start_time": "2022-11-21T15:45:58.383Z"
   },
   {
    "duration": 10,
    "start_time": "2022-11-21T15:45:58.401Z"
   },
   {
    "duration": 36,
    "start_time": "2022-11-21T15:45:58.413Z"
   },
   {
    "duration": 4,
    "start_time": "2022-11-21T15:45:58.451Z"
   },
   {
    "duration": 28,
    "start_time": "2022-11-21T15:45:58.457Z"
   },
   {
    "duration": 6,
    "start_time": "2022-11-21T15:45:58.486Z"
   },
   {
    "duration": 10,
    "start_time": "2022-11-21T15:45:58.493Z"
   },
   {
    "duration": 5,
    "start_time": "2022-11-21T15:45:58.505Z"
   },
   {
    "duration": 39,
    "start_time": "2022-11-21T15:45:58.511Z"
   },
   {
    "duration": 33,
    "start_time": "2022-11-21T15:45:58.552Z"
   },
   {
    "duration": 7,
    "start_time": "2022-11-21T15:45:58.587Z"
   },
   {
    "duration": 14,
    "start_time": "2022-11-21T15:45:58.595Z"
   },
   {
    "duration": 23,
    "start_time": "2022-11-21T15:45:58.611Z"
   },
   {
    "duration": 18,
    "start_time": "2022-11-21T15:45:58.635Z"
   },
   {
    "duration": 3,
    "start_time": "2022-11-21T15:45:58.679Z"
   },
   {
    "duration": 14,
    "start_time": "2022-11-21T15:45:58.684Z"
   },
   {
    "duration": 9,
    "start_time": "2022-11-21T15:45:58.700Z"
   },
   {
    "duration": 3,
    "start_time": "2022-11-21T15:45:58.711Z"
   },
   {
    "duration": 20,
    "start_time": "2022-11-21T15:45:58.716Z"
   },
   {
    "duration": 44,
    "start_time": "2022-11-21T15:45:58.738Z"
   },
   {
    "duration": 0,
    "start_time": "2022-11-21T15:45:58.783Z"
   },
   {
    "duration": 0,
    "start_time": "2022-11-21T15:45:58.785Z"
   },
   {
    "duration": 0,
    "start_time": "2022-11-21T15:45:58.785Z"
   },
   {
    "duration": 0,
    "start_time": "2022-11-21T15:45:58.786Z"
   },
   {
    "duration": 75,
    "start_time": "2022-11-21T15:46:07.798Z"
   },
   {
    "duration": 17,
    "start_time": "2022-11-21T15:46:07.875Z"
   },
   {
    "duration": 25,
    "start_time": "2022-11-21T15:46:07.894Z"
   },
   {
    "duration": 12,
    "start_time": "2022-11-21T15:46:07.922Z"
   },
   {
    "duration": 51,
    "start_time": "2022-11-21T15:46:07.936Z"
   },
   {
    "duration": 5,
    "start_time": "2022-11-21T15:46:07.988Z"
   },
   {
    "duration": 22,
    "start_time": "2022-11-21T15:46:07.994Z"
   },
   {
    "duration": 10,
    "start_time": "2022-11-21T15:46:08.018Z"
   },
   {
    "duration": 7,
    "start_time": "2022-11-21T15:46:08.030Z"
   },
   {
    "duration": 6,
    "start_time": "2022-11-21T15:46:08.040Z"
   },
   {
    "duration": 61,
    "start_time": "2022-11-21T15:46:08.048Z"
   },
   {
    "duration": 12,
    "start_time": "2022-11-21T15:46:08.111Z"
   },
   {
    "duration": 5,
    "start_time": "2022-11-21T15:46:08.125Z"
   },
   {
    "duration": 14,
    "start_time": "2022-11-21T15:46:08.132Z"
   },
   {
    "duration": 44,
    "start_time": "2022-11-21T15:46:08.148Z"
   },
   {
    "duration": 20,
    "start_time": "2022-11-21T15:46:08.194Z"
   },
   {
    "duration": 5,
    "start_time": "2022-11-21T15:46:08.216Z"
   },
   {
    "duration": 25,
    "start_time": "2022-11-21T15:46:08.223Z"
   },
   {
    "duration": 11,
    "start_time": "2022-11-21T15:46:08.250Z"
   },
   {
    "duration": 28,
    "start_time": "2022-11-21T15:46:08.263Z"
   },
   {
    "duration": 14,
    "start_time": "2022-11-21T15:46:08.293Z"
   },
   {
    "duration": 25,
    "start_time": "2022-11-21T15:47:15.979Z"
   },
   {
    "duration": 1320,
    "start_time": "2022-11-21T15:50:32.066Z"
   },
   {
    "duration": 19,
    "start_time": "2022-11-21T15:50:55.379Z"
   },
   {
    "duration": 9,
    "start_time": "2022-11-21T16:28:40.506Z"
   },
   {
    "duration": 4,
    "start_time": "2022-11-21T16:28:46.651Z"
   },
   {
    "duration": 9,
    "start_time": "2022-11-21T16:28:48.386Z"
   },
   {
    "duration": 27,
    "start_time": "2022-11-21T16:31:12.057Z"
   },
   {
    "duration": 17,
    "start_time": "2022-11-21T16:31:51.220Z"
   },
   {
    "duration": 21,
    "start_time": "2022-11-21T16:32:04.985Z"
   },
   {
    "duration": 16,
    "start_time": "2022-11-21T16:32:09.329Z"
   },
   {
    "duration": 20,
    "start_time": "2022-11-21T16:32:15.344Z"
   },
   {
    "duration": 17,
    "start_time": "2022-11-21T16:37:07.385Z"
   },
   {
    "duration": 15,
    "start_time": "2022-11-21T16:58:53.658Z"
   },
   {
    "duration": 16,
    "start_time": "2022-11-21T16:59:01.122Z"
   },
   {
    "duration": 17,
    "start_time": "2022-11-21T16:59:08.529Z"
   },
   {
    "duration": 15,
    "start_time": "2022-11-21T17:00:03.600Z"
   },
   {
    "duration": 17,
    "start_time": "2022-11-21T17:00:15.439Z"
   },
   {
    "duration": 24,
    "start_time": "2022-11-21T17:00:49.711Z"
   },
   {
    "duration": 20,
    "start_time": "2022-11-21T17:01:26.058Z"
   },
   {
    "duration": 9,
    "start_time": "2022-11-21T18:49:52.189Z"
   },
   {
    "duration": 10,
    "start_time": "2022-11-21T18:52:22.820Z"
   },
   {
    "duration": 11,
    "start_time": "2022-11-21T18:52:26.349Z"
   },
   {
    "duration": 12,
    "start_time": "2022-11-21T18:56:20.357Z"
   },
   {
    "duration": 10,
    "start_time": "2022-11-21T18:57:38.390Z"
   },
   {
    "duration": 15,
    "start_time": "2022-11-21T18:58:35.906Z"
   },
   {
    "duration": 14,
    "start_time": "2022-11-21T19:18:14.590Z"
   },
   {
    "duration": 69,
    "start_time": "2022-11-21T19:47:01.961Z"
   },
   {
    "duration": 16,
    "start_time": "2022-11-21T19:48:23.115Z"
   },
   {
    "duration": 13,
    "start_time": "2022-11-21T19:49:59.287Z"
   },
   {
    "duration": 12,
    "start_time": "2022-11-21T19:50:52.335Z"
   },
   {
    "duration": 11,
    "start_time": "2022-11-21T19:51:32.198Z"
   },
   {
    "duration": 13,
    "start_time": "2022-11-21T20:49:05.042Z"
   },
   {
    "duration": 12,
    "start_time": "2022-11-21T20:49:08.115Z"
   },
   {
    "duration": 18,
    "start_time": "2022-11-21T20:49:33.891Z"
   },
   {
    "duration": 841,
    "start_time": "2022-11-21T20:51:06.557Z"
   },
   {
    "duration": 836,
    "start_time": "2022-11-21T20:53:21.850Z"
   },
   {
    "duration": 12,
    "start_time": "2022-11-21T20:54:05.098Z"
   },
   {
    "duration": 17,
    "start_time": "2022-11-21T20:54:39.961Z"
   },
   {
    "duration": 15,
    "start_time": "2022-11-21T20:55:58.317Z"
   },
   {
    "duration": 3,
    "start_time": "2022-11-21T20:57:58.895Z"
   },
   {
    "duration": 52,
    "start_time": "2022-11-22T08:14:08.010Z"
   },
   {
    "duration": 9,
    "start_time": "2022-11-22T08:18:49.420Z"
   },
   {
    "duration": 12,
    "start_time": "2022-11-22T08:19:54.574Z"
   },
   {
    "duration": 8,
    "start_time": "2022-11-22T08:26:09.356Z"
   },
   {
    "duration": 9,
    "start_time": "2022-11-22T08:26:55.296Z"
   },
   {
    "duration": 9,
    "start_time": "2022-11-22T08:33:22.902Z"
   },
   {
    "duration": 10,
    "start_time": "2022-11-22T08:33:43.707Z"
   },
   {
    "duration": 9,
    "start_time": "2022-11-22T08:34:11.424Z"
   },
   {
    "duration": 8,
    "start_time": "2022-11-22T08:34:41.131Z"
   },
   {
    "duration": 9,
    "start_time": "2022-11-22T08:35:11.736Z"
   },
   {
    "duration": 8,
    "start_time": "2022-11-22T08:40:32.898Z"
   },
   {
    "duration": 8,
    "start_time": "2022-11-22T08:41:27.120Z"
   },
   {
    "duration": 8,
    "start_time": "2022-11-22T08:41:58.854Z"
   },
   {
    "duration": 9,
    "start_time": "2022-11-22T08:47:22.926Z"
   },
   {
    "duration": 8,
    "start_time": "2022-11-22T08:48:12.013Z"
   },
   {
    "duration": 9,
    "start_time": "2022-11-22T08:48:39.015Z"
   },
   {
    "duration": 8,
    "start_time": "2022-11-22T08:49:00.888Z"
   },
   {
    "duration": 7,
    "start_time": "2022-11-22T08:49:07.526Z"
   },
   {
    "duration": 51,
    "start_time": "2022-11-22T08:49:22.682Z"
   },
   {
    "duration": 9,
    "start_time": "2022-11-22T08:49:46.823Z"
   },
   {
    "duration": 8,
    "start_time": "2022-11-22T08:49:50.325Z"
   },
   {
    "duration": 46,
    "start_time": "2022-11-22T08:50:14.230Z"
   },
   {
    "duration": 7,
    "start_time": "2022-11-22T08:50:24.133Z"
   },
   {
    "duration": 8,
    "start_time": "2022-11-22T08:53:17.766Z"
   },
   {
    "duration": 657,
    "start_time": "2022-11-22T08:53:50.545Z"
   },
   {
    "duration": 23,
    "start_time": "2022-11-22T08:53:51.205Z"
   },
   {
    "duration": 19,
    "start_time": "2022-11-22T08:53:51.230Z"
   },
   {
    "duration": 10,
    "start_time": "2022-11-22T08:53:51.251Z"
   },
   {
    "duration": 48,
    "start_time": "2022-11-22T08:53:51.262Z"
   },
   {
    "duration": 4,
    "start_time": "2022-11-22T08:53:51.312Z"
   },
   {
    "duration": 10,
    "start_time": "2022-11-22T08:53:51.318Z"
   },
   {
    "duration": 5,
    "start_time": "2022-11-22T08:53:51.330Z"
   },
   {
    "duration": 9,
    "start_time": "2022-11-22T08:53:51.337Z"
   },
   {
    "duration": 4,
    "start_time": "2022-11-22T08:53:51.349Z"
   },
   {
    "duration": 65,
    "start_time": "2022-11-22T08:53:51.354Z"
   },
   {
    "duration": 9,
    "start_time": "2022-11-22T08:53:51.420Z"
   },
   {
    "duration": 10,
    "start_time": "2022-11-22T08:53:51.430Z"
   },
   {
    "duration": 12,
    "start_time": "2022-11-22T08:53:51.442Z"
   },
   {
    "duration": 19,
    "start_time": "2022-11-22T08:53:51.455Z"
   },
   {
    "duration": 37,
    "start_time": "2022-11-22T08:53:51.475Z"
   },
   {
    "duration": 3,
    "start_time": "2022-11-22T08:53:51.514Z"
   },
   {
    "duration": 19,
    "start_time": "2022-11-22T08:53:51.519Z"
   },
   {
    "duration": 10,
    "start_time": "2022-11-22T08:53:51.540Z"
   },
   {
    "duration": 7,
    "start_time": "2022-11-22T08:53:51.551Z"
   },
   {
    "duration": 16,
    "start_time": "2022-11-22T08:53:51.560Z"
   },
   {
    "duration": 34,
    "start_time": "2022-11-22T08:53:51.578Z"
   },
   {
    "duration": 33,
    "start_time": "2022-11-22T08:53:51.614Z"
   },
   {
    "duration": 13,
    "start_time": "2022-11-22T08:53:51.648Z"
   },
   {
    "duration": 9,
    "start_time": "2022-11-22T08:53:51.662Z"
   },
   {
    "duration": 75,
    "start_time": "2022-11-22T08:53:51.673Z"
   },
   {
    "duration": 0,
    "start_time": "2022-11-22T08:53:51.749Z"
   },
   {
    "duration": 11,
    "start_time": "2022-11-22T08:54:02.092Z"
   },
   {
    "duration": 15,
    "start_time": "2022-11-22T08:54:08.476Z"
   },
   {
    "duration": 11,
    "start_time": "2022-11-22T08:54:16.445Z"
   },
   {
    "duration": 13,
    "start_time": "2022-11-22T08:54:35.533Z"
   },
   {
    "duration": 12,
    "start_time": "2022-11-22T08:55:07.156Z"
   },
   {
    "duration": 11,
    "start_time": "2022-11-22T08:55:22.795Z"
   },
   {
    "duration": 11,
    "start_time": "2022-11-22T08:55:29.227Z"
   },
   {
    "duration": 18,
    "start_time": "2022-11-22T08:55:38.658Z"
   },
   {
    "duration": 17,
    "start_time": "2022-11-22T09:04:07.476Z"
   },
   {
    "duration": 12,
    "start_time": "2022-11-22T09:04:40.798Z"
   },
   {
    "duration": 944,
    "start_time": "2022-11-22T09:06:45.218Z"
   },
   {
    "duration": 10,
    "start_time": "2022-11-22T09:07:45.232Z"
   },
   {
    "duration": 675,
    "start_time": "2022-11-22T09:08:13.897Z"
   },
   {
    "duration": 931,
    "start_time": "2022-11-22T09:13:24.915Z"
   },
   {
    "duration": 17,
    "start_time": "2022-11-22T09:13:38.545Z"
   },
   {
    "duration": 26,
    "start_time": "2022-11-22T10:02:13.123Z"
   },
   {
    "duration": 17,
    "start_time": "2022-11-22T10:14:22.951Z"
   },
   {
    "duration": 17,
    "start_time": "2022-11-22T10:14:34.435Z"
   },
   {
    "duration": 16,
    "start_time": "2022-11-22T10:19:48.463Z"
   },
   {
    "duration": 18,
    "start_time": "2022-11-22T10:20:19.374Z"
   },
   {
    "duration": 19,
    "start_time": "2022-11-22T10:20:43.975Z"
   },
   {
    "duration": 19,
    "start_time": "2022-11-22T10:20:52.919Z"
   },
   {
    "duration": 16,
    "start_time": "2022-11-22T10:20:58.398Z"
   },
   {
    "duration": 862,
    "start_time": "2022-11-22T10:23:43.329Z"
   },
   {
    "duration": 18,
    "start_time": "2022-11-22T10:24:02.105Z"
   },
   {
    "duration": 907,
    "start_time": "2022-11-22T10:24:11.588Z"
   },
   {
    "duration": 749,
    "start_time": "2022-11-22T10:24:39.840Z"
   },
   {
    "duration": 1174,
    "start_time": "2022-11-22T10:25:07.551Z"
   },
   {
    "duration": 979,
    "start_time": "2022-11-22T10:28:59.847Z"
   },
   {
    "duration": 25,
    "start_time": "2022-11-22T10:29:14.992Z"
   },
   {
    "duration": 760,
    "start_time": "2022-11-22T10:33:22.652Z"
   },
   {
    "duration": 740,
    "start_time": "2022-11-22T10:35:52.925Z"
   },
   {
    "duration": 18,
    "start_time": "2022-11-22T10:36:17.221Z"
   },
   {
    "duration": 17,
    "start_time": "2022-11-22T10:37:50.965Z"
   },
   {
    "duration": 18,
    "start_time": "2022-11-22T10:37:56.620Z"
   },
   {
    "duration": 19,
    "start_time": "2022-11-22T10:38:04.292Z"
   },
   {
    "duration": 16,
    "start_time": "2022-11-22T13:53:00.774Z"
   },
   {
    "duration": 409,
    "start_time": "2022-11-22T14:57:50.358Z"
   },
   {
    "duration": 21,
    "start_time": "2022-11-22T14:57:50.769Z"
   },
   {
    "duration": 26,
    "start_time": "2022-11-22T14:57:50.791Z"
   },
   {
    "duration": 16,
    "start_time": "2022-11-22T14:57:50.819Z"
   },
   {
    "duration": 48,
    "start_time": "2022-11-22T14:57:50.837Z"
   },
   {
    "duration": 4,
    "start_time": "2022-11-22T14:57:50.887Z"
   },
   {
    "duration": 29,
    "start_time": "2022-11-22T14:57:50.892Z"
   },
   {
    "duration": 20,
    "start_time": "2022-11-22T14:57:50.922Z"
   },
   {
    "duration": 9,
    "start_time": "2022-11-22T14:57:50.944Z"
   },
   {
    "duration": 20,
    "start_time": "2022-11-22T14:57:50.955Z"
   },
   {
    "duration": 36,
    "start_time": "2022-11-22T14:57:50.976Z"
   },
   {
    "duration": 8,
    "start_time": "2022-11-22T14:57:51.014Z"
   },
   {
    "duration": 8,
    "start_time": "2022-11-22T14:57:51.023Z"
   },
   {
    "duration": 19,
    "start_time": "2022-11-22T14:57:51.033Z"
   },
   {
    "duration": 16,
    "start_time": "2022-11-22T14:57:51.054Z"
   },
   {
    "duration": 21,
    "start_time": "2022-11-22T14:57:51.072Z"
   },
   {
    "duration": 7,
    "start_time": "2022-11-22T14:57:51.094Z"
   },
   {
    "duration": 42,
    "start_time": "2022-11-22T14:57:51.103Z"
   },
   {
    "duration": 19,
    "start_time": "2022-11-22T14:57:51.147Z"
   },
   {
    "duration": 10,
    "start_time": "2022-11-22T14:57:51.167Z"
   },
   {
    "duration": 36,
    "start_time": "2022-11-22T14:57:51.179Z"
   },
   {
    "duration": 25,
    "start_time": "2022-11-22T14:57:51.217Z"
   },
   {
    "duration": 15,
    "start_time": "2022-11-22T14:57:51.243Z"
   },
   {
    "duration": 23,
    "start_time": "2022-11-22T14:57:51.259Z"
   },
   {
    "duration": 9,
    "start_time": "2022-11-22T14:57:51.283Z"
   },
   {
    "duration": 34,
    "start_time": "2022-11-22T14:57:51.293Z"
   },
   {
    "duration": 16,
    "start_time": "2022-11-22T14:57:51.329Z"
   },
   {
    "duration": 459,
    "start_time": "2022-11-22T15:01:14.437Z"
   },
   {
    "duration": 22,
    "start_time": "2022-11-22T15:01:14.898Z"
   },
   {
    "duration": 15,
    "start_time": "2022-11-22T15:01:14.922Z"
   },
   {
    "duration": 10,
    "start_time": "2022-11-22T15:01:14.939Z"
   },
   {
    "duration": 34,
    "start_time": "2022-11-22T15:01:14.951Z"
   },
   {
    "duration": 3,
    "start_time": "2022-11-22T15:01:14.986Z"
   },
   {
    "duration": 12,
    "start_time": "2022-11-22T15:01:14.990Z"
   },
   {
    "duration": 23,
    "start_time": "2022-11-22T15:01:15.004Z"
   },
   {
    "duration": 35,
    "start_time": "2022-11-22T15:01:15.029Z"
   },
   {
    "duration": 6,
    "start_time": "2022-11-22T15:01:15.067Z"
   },
   {
    "duration": 39,
    "start_time": "2022-11-22T15:01:15.075Z"
   },
   {
    "duration": 9,
    "start_time": "2022-11-22T15:01:15.116Z"
   },
   {
    "duration": 5,
    "start_time": "2022-11-22T15:01:15.127Z"
   },
   {
    "duration": 12,
    "start_time": "2022-11-22T15:01:15.133Z"
   },
   {
    "duration": 18,
    "start_time": "2022-11-22T15:01:15.147Z"
   },
   {
    "duration": 17,
    "start_time": "2022-11-22T15:01:15.166Z"
   },
   {
    "duration": 3,
    "start_time": "2022-11-22T15:01:15.184Z"
   },
   {
    "duration": 11,
    "start_time": "2022-11-22T15:01:15.189Z"
   },
   {
    "duration": 27,
    "start_time": "2022-11-22T15:01:15.202Z"
   },
   {
    "duration": 4,
    "start_time": "2022-11-22T15:01:15.231Z"
   },
   {
    "duration": 12,
    "start_time": "2022-11-22T15:01:15.236Z"
   },
   {
    "duration": 28,
    "start_time": "2022-11-22T15:01:15.249Z"
   },
   {
    "duration": 15,
    "start_time": "2022-11-22T15:01:15.279Z"
   },
   {
    "duration": 43,
    "start_time": "2022-11-22T15:01:15.295Z"
   },
   {
    "duration": 13,
    "start_time": "2022-11-22T15:01:15.340Z"
   },
   {
    "duration": 13,
    "start_time": "2022-11-22T15:01:15.355Z"
   },
   {
    "duration": 21,
    "start_time": "2022-11-22T15:01:15.370Z"
   },
   {
    "duration": 46,
    "start_time": "2022-11-22T15:01:15.393Z"
   },
   {
    "duration": 16,
    "start_time": "2022-11-22T15:05:20.661Z"
   },
   {
    "duration": 27,
    "start_time": "2022-11-22T15:06:54.510Z"
   },
   {
    "duration": 17,
    "start_time": "2022-11-22T15:07:19.976Z"
   },
   {
    "duration": 1081,
    "start_time": "2022-11-22T15:09:24.744Z"
   },
   {
    "duration": 10,
    "start_time": "2022-11-22T15:09:36.389Z"
   },
   {
    "duration": 10,
    "start_time": "2022-11-22T15:10:04.280Z"
   },
   {
    "duration": 11,
    "start_time": "2022-11-22T15:10:18.168Z"
   },
   {
    "duration": 10,
    "start_time": "2022-11-22T15:10:25.793Z"
   },
   {
    "duration": 18,
    "start_time": "2022-11-22T15:10:52.012Z"
   },
   {
    "duration": 10,
    "start_time": "2022-11-22T15:10:55.422Z"
   },
   {
    "duration": 450,
    "start_time": "2022-11-22T15:12:24.139Z"
   },
   {
    "duration": 22,
    "start_time": "2022-11-22T15:12:24.591Z"
   },
   {
    "duration": 15,
    "start_time": "2022-11-22T15:12:24.615Z"
   },
   {
    "duration": 9,
    "start_time": "2022-11-22T15:12:24.632Z"
   },
   {
    "duration": 36,
    "start_time": "2022-11-22T15:12:24.642Z"
   },
   {
    "duration": 4,
    "start_time": "2022-11-22T15:12:24.679Z"
   },
   {
    "duration": 16,
    "start_time": "2022-11-22T15:12:24.685Z"
   },
   {
    "duration": 23,
    "start_time": "2022-11-22T15:12:24.703Z"
   },
   {
    "duration": 11,
    "start_time": "2022-11-22T15:12:24.728Z"
   },
   {
    "duration": 4,
    "start_time": "2022-11-22T15:12:24.741Z"
   },
   {
    "duration": 36,
    "start_time": "2022-11-22T15:12:24.747Z"
   },
   {
    "duration": 9,
    "start_time": "2022-11-22T15:12:24.785Z"
   },
   {
    "duration": 11,
    "start_time": "2022-11-22T15:12:24.797Z"
   },
   {
    "duration": 25,
    "start_time": "2022-11-22T15:12:24.810Z"
   },
   {
    "duration": 25,
    "start_time": "2022-11-22T15:12:24.837Z"
   },
   {
    "duration": 27,
    "start_time": "2022-11-22T15:12:24.864Z"
   },
   {
    "duration": 7,
    "start_time": "2022-11-22T15:12:24.893Z"
   },
   {
    "duration": 22,
    "start_time": "2022-11-22T15:12:24.901Z"
   },
   {
    "duration": 7,
    "start_time": "2022-11-22T15:12:24.925Z"
   },
   {
    "duration": 14,
    "start_time": "2022-11-22T15:12:24.934Z"
   },
   {
    "duration": 17,
    "start_time": "2022-11-22T15:12:24.950Z"
   },
   {
    "duration": 28,
    "start_time": "2022-11-22T15:12:24.968Z"
   },
   {
    "duration": 16,
    "start_time": "2022-11-22T15:12:24.998Z"
   },
   {
    "duration": 28,
    "start_time": "2022-11-22T15:12:25.015Z"
   },
   {
    "duration": 18,
    "start_time": "2022-11-22T15:12:25.045Z"
   },
   {
    "duration": 71,
    "start_time": "2022-11-22T15:12:25.067Z"
   },
   {
    "duration": 58,
    "start_time": "2022-11-22T15:12:25.140Z"
   },
   {
    "duration": 14,
    "start_time": "2022-11-22T15:12:25.203Z"
   },
   {
    "duration": 18,
    "start_time": "2022-11-22T15:12:25.219Z"
   },
   {
    "duration": 17,
    "start_time": "2022-11-22T15:12:25.238Z"
   },
   {
    "duration": 50,
    "start_time": "2022-11-22T18:27:13.791Z"
   },
   {
    "duration": 8,
    "start_time": "2022-11-22T18:28:52.089Z"
   },
   {
    "duration": 7,
    "start_time": "2022-11-22T18:31:01.676Z"
   },
   {
    "duration": 7,
    "start_time": "2022-11-22T18:31:34.700Z"
   },
   {
    "duration": 58,
    "start_time": "2022-11-22T18:51:45.145Z"
   },
   {
    "duration": 6,
    "start_time": "2022-11-22T18:53:20.750Z"
   },
   {
    "duration": 7,
    "start_time": "2022-11-22T18:56:06.369Z"
   },
   {
    "duration": 8,
    "start_time": "2022-11-22T18:56:27.416Z"
   },
   {
    "duration": 8,
    "start_time": "2022-11-22T18:57:09.483Z"
   },
   {
    "duration": 6,
    "start_time": "2022-11-22T18:57:22.567Z"
   },
   {
    "duration": 684,
    "start_time": "2022-11-22T18:57:34.751Z"
   },
   {
    "duration": 22,
    "start_time": "2022-11-22T18:57:35.437Z"
   },
   {
    "duration": 15,
    "start_time": "2022-11-22T18:57:35.461Z"
   },
   {
    "duration": 10,
    "start_time": "2022-11-22T18:57:35.477Z"
   },
   {
    "duration": 45,
    "start_time": "2022-11-22T18:57:35.489Z"
   },
   {
    "duration": 3,
    "start_time": "2022-11-22T18:57:35.536Z"
   },
   {
    "duration": 11,
    "start_time": "2022-11-22T18:57:35.541Z"
   },
   {
    "duration": 14,
    "start_time": "2022-11-22T18:57:35.554Z"
   },
   {
    "duration": 13,
    "start_time": "2022-11-22T18:57:35.570Z"
   },
   {
    "duration": 6,
    "start_time": "2022-11-22T18:57:35.584Z"
   },
   {
    "duration": 46,
    "start_time": "2022-11-22T18:57:35.591Z"
   },
   {
    "duration": 8,
    "start_time": "2022-11-22T18:57:35.639Z"
   },
   {
    "duration": 6,
    "start_time": "2022-11-22T18:57:35.649Z"
   },
   {
    "duration": 12,
    "start_time": "2022-11-22T18:57:35.657Z"
   },
   {
    "duration": 24,
    "start_time": "2022-11-22T18:57:35.671Z"
   },
   {
    "duration": 30,
    "start_time": "2022-11-22T18:57:35.696Z"
   },
   {
    "duration": 3,
    "start_time": "2022-11-22T18:57:35.728Z"
   },
   {
    "duration": 13,
    "start_time": "2022-11-22T18:57:35.733Z"
   },
   {
    "duration": 6,
    "start_time": "2022-11-22T18:57:35.747Z"
   },
   {
    "duration": 3,
    "start_time": "2022-11-22T18:57:35.755Z"
   },
   {
    "duration": 11,
    "start_time": "2022-11-22T18:57:35.760Z"
   },
   {
    "duration": 47,
    "start_time": "2022-11-22T18:57:35.772Z"
   },
   {
    "duration": 16,
    "start_time": "2022-11-22T18:57:35.821Z"
   },
   {
    "duration": 10,
    "start_time": "2022-11-22T18:57:35.838Z"
   },
   {
    "duration": 35,
    "start_time": "2022-11-22T18:57:35.850Z"
   },
   {
    "duration": 35,
    "start_time": "2022-11-22T18:57:35.886Z"
   },
   {
    "duration": 9,
    "start_time": "2022-11-22T18:57:35.923Z"
   },
   {
    "duration": 17,
    "start_time": "2022-11-22T18:57:35.933Z"
   },
   {
    "duration": 11,
    "start_time": "2022-11-22T18:57:35.952Z"
   },
   {
    "duration": 17,
    "start_time": "2022-11-22T18:57:35.964Z"
   },
   {
    "duration": 45,
    "start_time": "2022-11-22T18:57:35.983Z"
   },
   {
    "duration": 11,
    "start_time": "2022-11-22T18:57:55.209Z"
   },
   {
    "duration": 12,
    "start_time": "2022-11-22T18:58:10.191Z"
   },
   {
    "duration": 10,
    "start_time": "2022-11-22T18:58:26.483Z"
   },
   {
    "duration": 11,
    "start_time": "2022-11-22T18:58:52.965Z"
   },
   {
    "duration": 11,
    "start_time": "2022-11-22T18:59:02.359Z"
   },
   {
    "duration": 12,
    "start_time": "2022-11-22T18:59:49.050Z"
   },
   {
    "duration": 20,
    "start_time": "2022-11-22T19:10:02.788Z"
   },
   {
    "duration": 20,
    "start_time": "2022-11-22T19:23:08.979Z"
   },
   {
    "duration": 23,
    "start_time": "2022-11-22T19:24:30.714Z"
   },
   {
    "duration": 25,
    "start_time": "2022-11-22T19:25:26.555Z"
   },
   {
    "duration": 25,
    "start_time": "2022-11-22T19:27:54.161Z"
   },
   {
    "duration": 23,
    "start_time": "2022-11-22T19:28:54.780Z"
   },
   {
    "duration": 21,
    "start_time": "2022-11-22T19:29:04.673Z"
   },
   {
    "duration": 26,
    "start_time": "2022-11-22T19:29:20.274Z"
   },
   {
    "duration": 16,
    "start_time": "2022-11-22T19:30:23.195Z"
   },
   {
    "duration": 45,
    "start_time": "2022-11-22T19:40:22.321Z"
   },
   {
    "duration": 406,
    "start_time": "2022-11-22T19:40:33.071Z"
   },
   {
    "duration": 22,
    "start_time": "2022-11-22T19:40:39.277Z"
   },
   {
    "duration": 24,
    "start_time": "2022-11-22T19:41:00.622Z"
   },
   {
    "duration": 19,
    "start_time": "2022-11-22T19:53:31.259Z"
   },
   {
    "duration": 16,
    "start_time": "2022-11-22T19:54:03.658Z"
   }
  ],
  "colab": {
   "name": "dpp_template_part2.ipynb",
   "provenance": []
  },
  "kernelspec": {
   "display_name": "Python 3 (ipykernel)",
   "language": "python",
   "name": "python3"
  },
  "language_info": {
   "codemirror_mode": {
    "name": "ipython",
    "version": 3
   },
   "file_extension": ".py",
   "mimetype": "text/x-python",
   "name": "python",
   "nbconvert_exporter": "python",
   "pygments_lexer": "ipython3",
   "version": "3.9.5"
  },
  "toc": {
   "base_numbering": 1,
   "nav_menu": {},
   "number_sections": true,
   "sideBar": true,
   "skip_h1_title": true,
   "title_cell": "Table of Contents",
   "title_sidebar": "Contents",
   "toc_cell": false,
   "toc_position": {},
   "toc_section_display": true,
   "toc_window_display": true
  }
 },
 "nbformat": 4,
 "nbformat_minor": 5
}
